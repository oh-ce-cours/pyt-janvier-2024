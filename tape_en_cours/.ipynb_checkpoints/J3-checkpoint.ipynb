{
 "cells": [
  {
   "cell_type": "markdown",
   "id": "4107557e-c223-4940-ac70-5e5357cfbeee",
   "metadata": {},
   "source": [
    "# Rappel du jour précédent \n",
    "\n",
    "* programmation fonctionnelle\n",
    "    * les fonctions sont des variables comme les autres\n",
    "    * on va avoir des \"fonctions d'ordre supérieur\" (higher order functions) qui vont prendre en paramètre ou retourner des fonctions\n",
    "    * "
   ]
  },
  {
   "cell_type": "code",
   "execution_count": null,
   "id": "75d16a99-8c58-48a1-bac3-e4e88bc57c4d",
   "metadata": {},
   "outputs": [],
   "source": []
  }
 ],
 "metadata": {
  "kernelspec": {
   "display_name": "Python 3 (ipykernel)",
   "language": "python",
   "name": "python3"
  },
  "language_info": {
   "codemirror_mode": {
    "name": "ipython",
    "version": 3
   },
   "file_extension": ".py",
   "mimetype": "text/x-python",
   "name": "python",
   "nbconvert_exporter": "python",
   "pygments_lexer": "ipython3",
   "version": "3.12.0"
  }
 },
 "nbformat": 4,
 "nbformat_minor": 5
}
