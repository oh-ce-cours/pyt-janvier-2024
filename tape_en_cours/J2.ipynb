{
 "cells": [
  {
   "cell_type": "markdown",
   "id": "a8cc51d3-a221-45e8-900c-efbf486692e7",
   "metadata": {},
   "source": [
    "# Rappel de la journée 1\n",
    "\n",
    "## Matin \n",
    "\n",
    "* présentation générale du langage\n",
    "* présentation des bonnes pratiques (code pythonique)\n",
    "* explication de la variable `path`\n",
    "    * regarder le chemin complet d'une application en faisant\n",
    "        * sous linux: `which`\n",
    "        * sous windows: `where` (renvoie les résultats qui ont le même nom dans tous les dossiers du PATH, le premier est le plus prioritaire)\n",
    "\n",
    "## Après-midi \n",
    "\n",
    "* `venv`\n",
    "    * permet d'encapsuler les dépendances liées à un projet\n",
    "    * pour le créer : `python -m venv LE_NOM_DU_VENV`\n",
    "    * va surcharger le PATH pour utiliser l'interpréteur du venv\n",
    "    * activer l'environnement\n",
    "        * windows : `venv/Scripts/activate`\n",
    "        * unix : `source venv/bin/activate`\n",
    "        * depuis VSCode ou PyCharm en cliquant sur la selection de l'interpréteur\n",
    "* librairies `builtin`, librairie standard, librairie tierces (installées avec `pip`)\n",
    "* installer des paquets sans avoir internet (`pip download` puis installation depuis un dossier spécifique) : https://stackoverflow.com/questions/11091623/how-to-install-packages-offline  \n",
    "* bonnes pratiques / configuration de l'éditeur (testé avec VSCode)\n",
    "    * `ruff`\n",
    "        * formatage du code (référence de la PEP 8, conventions d'écriture de code python)\n",
    "        * linting : analyse statique du code (le collègue pointilleux)\n",
    "    * `mypy` : linter de code, vérification des types à partir `annotations de types`\n",
    "    * `pylint` : linter de code (différent de ruff)\n",
    "    * la configuration de tous ces outils peut se faire dans un fichier centralisé : `pyproject.toml`\n"
   ]
  },
  {
   "cell_type": "markdown",
   "id": "31568fd1-bd3b-4c83-a882-f069669af088",
   "metadata": {},
   "source": [
    "# Tuple unpacking "
   ]
  },
  {
   "cell_type": "code",
   "execution_count": 36,
   "id": "d0243081-b782-4968-9884-d5a3440323d5",
   "metadata": {},
   "outputs": [
    {
     "name": "stdout",
     "output_type": "stream",
     "text": [
      "1\n",
      "2\n"
     ]
    }
   ],
   "source": [
    "a, b = 1, 2 \n",
    "print(a)\n",
    "print(b)"
   ]
  },
  {
   "cell_type": "code",
   "execution_count": 51,
   "id": "5d42f934-d1c1-474f-b858-18fe946bd6d6",
   "metadata": {},
   "outputs": [
    {
     "name": "stdout",
     "output_type": "stream",
     "text": [
      "1\n",
      "[2, 3, 4]\n"
     ]
    }
   ],
   "source": [
    "a, *_ = [1, 2, 3, 4]\n",
    "print(a)\n",
    "print(_)"
   ]
  },
  {
   "cell_type": "code",
   "execution_count": 54,
   "id": "072a03b6-1404-407b-b6bc-2d1c76480552",
   "metadata": {},
   "outputs": [
    {
     "name": "stdout",
     "output_type": "stream",
     "text": [
      "1 the\n",
      "3.2 [1, 2, 3]\n",
      "1\n",
      "t h e\n",
      "----\n",
      "3.2\n",
      "1 2 3\n",
      "----\n"
     ]
    }
   ],
   "source": [
    "ma_liste = [\n",
    "    [1, \"the\"], \n",
    "    (3.2, [1, 2, 3]),\n",
    "]\n",
    "\n",
    "for element in ma_liste:\n",
    "    premier, deuxieme = element\n",
    "    print(premier, deuxieme)\n",
    "\n",
    "for (premier, (a, b, c)) in ma_liste:\n",
    "    print(premier)\n",
    "    print(a, b, c)\n",
    "    print(\"----\")"
   ]
  },
  {
   "cell_type": "markdown",
   "id": "f312ddad-a022-4bdb-b86f-77a3a59dd545",
   "metadata": {},
   "source": [
    "# Les listes \n",
    "\n",
    "Dans une liste on peut mettre n'importe quel type de données"
   ]
  },
  {
   "cell_type": "code",
   "execution_count": 11,
   "id": "4571c877-2b2e-4761-aa52-37e625410f0f",
   "metadata": {},
   "outputs": [
    {
     "name": "stdout",
     "output_type": "stream",
     "text": [
      "[1, 'zaaezé', [], 126]\n"
     ]
    }
   ],
   "source": [
    "def f(a):\n",
    "    return 42*a\n",
    "\n",
    "l = [1, \"zaaezé\", [], f(3)]\n",
    "print(l)"
   ]
  },
  {
   "cell_type": "code",
   "execution_count": 13,
   "id": "7ed2318b-0ce7-44aa-a57c-ee999f143d99",
   "metadata": {},
   "outputs": [
    {
     "data": {
      "text/plain": [
       "'zaaezé'"
      ]
     },
     "execution_count": 13,
     "metadata": {},
     "output_type": "execute_result"
    }
   ],
   "source": [
    "l[1] # on récupère la valeur présente dans l'index 1"
   ]
  },
  {
   "cell_type": "code",
   "execution_count": 14,
   "id": "5f96e288-4db3-48af-8dba-09c5213a4c08",
   "metadata": {},
   "outputs": [
    {
     "data": {
      "text/plain": [
       "(126, 126)"
      ]
     },
     "execution_count": 14,
     "metadata": {},
     "output_type": "execute_result"
    }
   ],
   "source": [
    "l[3], l[-1]"
   ]
  },
  {
   "cell_type": "markdown",
   "id": "41c13eec-0e85-4cb8-be92-b3afe5251b00",
   "metadata": {},
   "source": [
    "Le -1 vient de cette formalation `l[len(l) - 1]`"
   ]
  },
  {
   "cell_type": "code",
   "execution_count": 16,
   "id": "829f5ed7-572a-41a1-b705-b8c823e6b3fd",
   "metadata": {},
   "outputs": [
    {
     "ename": "IndexError",
     "evalue": "list index out of range",
     "output_type": "error",
     "traceback": [
      "\u001b[0;31m---------------------------------------------------------------------------\u001b[0m",
      "\u001b[0;31mIndexError\u001b[0m                                Traceback (most recent call last)",
      "Cell \u001b[0;32mIn[16], line 1\u001b[0m\n\u001b[0;32m----> 1\u001b[0m \u001b[43ml\u001b[49m\u001b[43m[\u001b[49m\u001b[38;5;241;43m5\u001b[39;49m\u001b[43m]\u001b[49m\n",
      "\u001b[0;31mIndexError\u001b[0m: list index out of range"
     ]
    }
   ],
   "source": [
    "l[5]"
   ]
  },
  {
   "cell_type": "code",
   "execution_count": 19,
   "id": "2749176b-02d8-4ce1-a3e6-62b30fdb9d3d",
   "metadata": {},
   "outputs": [
    {
     "ename": "IndexError",
     "evalue": "list index out of range",
     "output_type": "error",
     "traceback": [
      "\u001b[0;31m---------------------------------------------------------------------------\u001b[0m",
      "\u001b[0;31mIndexError\u001b[0m                                Traceback (most recent call last)",
      "Cell \u001b[0;32mIn[19], line 1\u001b[0m\n\u001b[0;32m----> 1\u001b[0m \u001b[43ml\u001b[49m\u001b[43m[\u001b[49m\u001b[38;5;241;43m-\u001b[39;49m\u001b[38;5;241;43m5\u001b[39;49m\u001b[43m]\u001b[49m\n",
      "\u001b[0;31mIndexError\u001b[0m: list index out of range"
     ]
    }
   ],
   "source": [
    "l[-5]"
   ]
  },
  {
   "cell_type": "markdown",
   "id": "b4823536-1a2f-4d2e-b47e-84e8fd144aa8",
   "metadata": {},
   "source": [
    "## Slicing"
   ]
  },
  {
   "cell_type": "code",
   "execution_count": 21,
   "id": "4c3dab61-89d1-4dd0-bc9f-8191a94be8e8",
   "metadata": {},
   "outputs": [],
   "source": [
    "s = \"IndexError: list index out of range\""
   ]
  },
  {
   "cell_type": "code",
   "execution_count": 32,
   "id": "e0321d99-f7a0-46b5-9c89-927abb273a31",
   "metadata": {},
   "outputs": [
    {
     "data": {
      "text/plain": [
       "'neErr'"
      ]
     },
     "execution_count": 32,
     "metadata": {},
     "output_type": "execute_result"
    }
   ],
   "source": [
    "debut = 1\n",
    "fin = 10\n",
    "pas = 2\n",
    "\n",
    "s[debut:fin:pas]"
   ]
  },
  {
   "cell_type": "markdown",
   "id": "9b76cf77-daf3-48d9-a805-d8d0d241320c",
   "metadata": {},
   "source": [
    "# Fizz buzz"
   ]
  },
  {
   "cell_type": "code",
   "execution_count": 61,
   "id": "53fa1478-ceca-420f-adf5-d1db6140387c",
   "metadata": {},
   "outputs": [
    {
     "name": "stdout",
     "output_type": "stream",
     "text": [
      "1\n",
      "2\n",
      "fizz\n",
      "4\n",
      "buzz\n",
      "fizz\n",
      "7\n",
      "8\n",
      "fizz\n",
      "buzz\n",
      "11\n",
      "fizz\n",
      "13\n",
      "14\n",
      "fizzbuzz\n",
      "16\n",
      "17\n",
      "fizz\n",
      "19\n",
      "buzz\n",
      "fizz\n",
      "22\n",
      "23\n",
      "fizz\n",
      "buzz\n",
      "26\n",
      "fizz\n",
      "28\n",
      "29\n",
      "fizzbuzz\n",
      "31\n",
      "32\n",
      "fizz\n",
      "34\n",
      "buzz\n",
      "fizz\n",
      "37\n",
      "38\n",
      "fizz\n",
      "buzz\n",
      "41\n",
      "fizz\n",
      "43\n",
      "44\n",
      "fizzbuzz\n",
      "46\n",
      "47\n",
      "fizz\n",
      "49\n",
      "buzz\n",
      "fizz\n",
      "52\n",
      "53\n",
      "fizz\n",
      "buzz\n",
      "56\n",
      "fizz\n",
      "58\n",
      "59\n",
      "fizzbuzz\n",
      "61\n",
      "62\n",
      "fizz\n",
      "64\n",
      "buzz\n",
      "fizz\n",
      "67\n",
      "68\n",
      "fizz\n",
      "buzz\n",
      "71\n",
      "fizz\n",
      "73\n",
      "74\n",
      "fizzbuzz\n",
      "76\n",
      "77\n",
      "fizz\n",
      "79\n",
      "buzz\n",
      "fizz\n",
      "82\n",
      "83\n",
      "fizz\n",
      "buzz\n",
      "86\n",
      "fizz\n",
      "88\n",
      "89\n",
      "fizzbuzz\n",
      "91\n",
      "92\n",
      "fizz\n",
      "94\n",
      "buzz\n",
      "fizz\n",
      "97\n",
      "98\n",
      "fizz\n",
      "buzz\n"
     ]
    }
   ],
   "source": [
    "for number in range(1, 101):\n",
    "    match number % 3, number % 5:\n",
    "        case 0, 0:\n",
    "            print(\"fizzbuzz\")\n",
    "        case _, 0:\n",
    "            print(\"buzz\")\n",
    "        case 0, _:\n",
    "            print(\"fizz\")\n",
    "        case _:\n",
    "            print(number)"
   ]
  },
  {
   "cell_type": "code",
   "execution_count": null,
   "id": "fc9c9692-3294-4406-b83d-5b7844138774",
   "metadata": {},
   "outputs": [],
   "source": []
  },
  {
   "cell_type": "code",
   "execution_count": 65,
   "id": "4991bb22-0a9f-46dc-8d29-0dccb6ac844a",
   "metadata": {},
   "outputs": [
    {
     "data": {
      "text/plain": [
       "'fizzbuzz'"
      ]
     },
     "execution_count": 65,
     "metadata": {},
     "output_type": "execute_result"
    }
   ],
   "source": [
    "a = \"fizz\"\n",
    "b = \"buzz\"\n",
    "a + b"
   ]
  },
  {
   "cell_type": "code",
   "execution_count": 67,
   "id": "aae4d992-e1b5-4f20-a5df-a85bb1984197",
   "metadata": {},
   "outputs": [
    {
     "data": {
      "text/plain": [
       "(False, True, True, True)"
      ]
     },
     "execution_count": 67,
     "metadata": {},
     "output_type": "execute_result"
    }
   ],
   "source": [
    "bool(0), bool(-1), bool(1), bool(13432)"
   ]
  },
  {
   "cell_type": "code",
   "execution_count": 68,
   "id": "f210a8c2-89b2-4ea4-b1bd-719767ca8c20",
   "metadata": {},
   "outputs": [
    {
     "data": {
      "text/plain": [
       "(0, 1)"
      ]
     },
     "execution_count": 68,
     "metadata": {},
     "output_type": "execute_result"
    }
   ],
   "source": [
    "int(False), int(True)"
   ]
  },
  {
   "cell_type": "code",
   "execution_count": 84,
   "id": "42346ca9-6569-496d-9cf2-3640c0a25e4f",
   "metadata": {},
   "outputs": [
    {
     "data": {
      "text/plain": [
       "'7'"
      ]
     },
     "execution_count": 84,
     "metadata": {},
     "output_type": "execute_result"
    }
   ],
   "source": [
    "n = 7\n",
    "\"fizz\" * (n % 3 == 0) + \"buzz\" * (n % 5 == 0) or str(n)"
   ]
  },
  {
   "cell_type": "code",
   "execution_count": 81,
   "id": "939966ff-16d0-40ee-bef5-c672cbd057cb",
   "metadata": {},
   "outputs": [
    {
     "data": {
      "text/plain": [
       "'7'"
      ]
     },
     "execution_count": 81,
     "metadata": {},
     "output_type": "execute_result"
    }
   ],
   "source": [
    "\"\" or str(7)"
   ]
  },
  {
   "cell_type": "code",
   "execution_count": 111,
   "id": "8aa8d7c2-49d1-4ad1-b4ff-9b0dbb8c78e6",
   "metadata": {},
   "outputs": [
    {
     "name": "stdout",
     "output_type": "stream",
     "text": [
      "[1, 4, 9, 16, 25]\n"
     ]
    }
   ],
   "source": [
    "def f(x):\n",
    "    return x ** 2\n",
    "\n",
    "ma_liste = [1, 2, 3, 4, 5]\n",
    "res = []\n",
    "for element in ma_liste:\n",
    "    tmp = f(element)\n",
    "    res.append(tmp)\n",
    "print(res)\n",
    "\n",
    "import typing\n",
    "\n",
    "def my_map(func: typing.Callable[], elements):\n",
    "    res = []\n",
    "    for element in elements:\n",
    "        tmp = func(element)\n",
    "        res.append(tmp)\n",
    "    return res \n"
   ]
  },
  {
   "cell_type": "code",
   "execution_count": 110,
   "id": "94754892-90cb-4665-b00f-6d8598808d13",
   "metadata": {},
   "outputs": [
    {
     "data": {
      "text/plain": [
       "True"
      ]
     },
     "execution_count": 110,
     "metadata": {},
     "output_type": "execute_result"
    }
   ],
   "source": [
    "list(map(f, ma_liste)) == my_map(f, ma_liste)"
   ]
  },
  {
   "cell_type": "code",
   "execution_count": 95,
   "id": "ad35193a-5ead-48c0-ab7f-31ce65cd7f09",
   "metadata": {},
   "outputs": [
    {
     "data": {
      "text/plain": [
       "[1, 4, 9, 16, 25]"
      ]
     },
     "execution_count": 95,
     "metadata": {},
     "output_type": "execute_result"
    }
   ],
   "source": [
    "[f(element) for element in ma_liste]"
   ]
  },
  {
   "cell_type": "code",
   "execution_count": 97,
   "id": "f1d3187d-3b81-4cab-8ed8-4c773a6ccde0",
   "metadata": {},
   "outputs": [],
   "source": [
    "toto = f"
   ]
  },
  {
   "cell_type": "code",
   "execution_count": 101,
   "id": "5b478556-f210-4411-bc0e-fd15ccec95f4",
   "metadata": {},
   "outputs": [
    {
     "data": {
      "text/plain": [
       "25"
      ]
     },
     "execution_count": 101,
     "metadata": {},
     "output_type": "execute_result"
    }
   ],
   "source": [
    "toto(5)"
   ]
  },
  {
   "cell_type": "code",
   "execution_count": 108,
   "id": "fe6c7b50-5b9f-43da-80ca-441460aca0f4",
   "metadata": {},
   "outputs": [
    {
     "data": {
      "text/plain": [
       "\u001b[0;31mInit signature:\u001b[0m \u001b[0mmap\u001b[0m\u001b[0;34m(\u001b[0m\u001b[0mself\u001b[0m\u001b[0;34m,\u001b[0m \u001b[0;34m/\u001b[0m\u001b[0;34m,\u001b[0m \u001b[0;34m*\u001b[0m\u001b[0margs\u001b[0m\u001b[0;34m,\u001b[0m \u001b[0;34m**\u001b[0m\u001b[0mkwargs\u001b[0m\u001b[0;34m)\u001b[0m\u001b[0;34m\u001b[0m\u001b[0;34m\u001b[0m\u001b[0m\n",
       "\u001b[0;31mDocstring:\u001b[0m     \n",
       "map(func, *iterables) --> map object\n",
       "\n",
       "Make an iterator that computes the function using arguments from\n",
       "each of the iterables.  Stops when the shortest iterable is exhausted.\n",
       "\u001b[0;31mType:\u001b[0m           type\n",
       "\u001b[0;31mSubclasses:\u001b[0m     "
      ]
     },
     "metadata": {},
     "output_type": "display_data"
    }
   ],
   "source": [
    "map?"
   ]
  },
  {
   "cell_type": "code",
   "execution_count": null,
   "id": "06c97e90-5d3c-41e5-beab-b88e2c2a0e32",
   "metadata": {},
   "outputs": [],
   "source": []
  }
 ],
 "metadata": {
  "kernelspec": {
   "display_name": "Python 3 (ipykernel)",
   "language": "python",
   "name": "python3"
  },
  "language_info": {
   "codemirror_mode": {
    "name": "ipython",
    "version": 3
   },
   "file_extension": ".py",
   "mimetype": "text/x-python",
   "name": "python",
   "nbconvert_exporter": "python",
   "pygments_lexer": "ipython3",
   "version": "3.12.0"
  }
 },
 "nbformat": 4,
 "nbformat_minor": 5
}
