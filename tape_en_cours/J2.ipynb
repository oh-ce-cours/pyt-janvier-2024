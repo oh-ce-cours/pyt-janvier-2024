{
 "cells": [
  {
   "cell_type": "markdown",
   "id": "a8cc51d3-a221-45e8-900c-efbf486692e7",
   "metadata": {},
   "source": [
    "# Rappel de la journée 1\n",
    "\n",
    "## Matin \n",
    "\n",
    "* présentation générale du langage\n",
    "* présentation des bonnes pratiques (code pythonique)\n",
    "* explication de la variable `path`\n",
    "    * regarder le chemin complet d'une application en faisant\n",
    "        * sous linux: `which`\n",
    "        * sous windows: `where` (renvoie les résultats qui ont le même nom dans tous les dossiers du PATH, le premier est le plus prioritaire)\n",
    "\n",
    "## Après-midi \n",
    "\n",
    "* `venv`\n",
    "    * permet d'encapsuler les dépendances liées à un projet\n",
    "    * pour le créer : `python -m venv LE_NOM_DU_VENV`\n",
    "    * va surcharger le PATH pour utiliser l'interpréteur du venv\n",
    "    * activer l'environnement\n",
    "        * windows : `venv/Scripts/activate`\n",
    "        * unix : `source venv/bin/activate`\n",
    "        * depuis VSCode ou PyCharm en cliquant sur la selection de l'interpréteur\n",
    "* librairies `builtin`, librairie standard, librairie tierces (installées avec `pip`)\n",
    "* installer des paquets sans avoir internet (`pip download` puis installation depuis un dossier spécifique) : https://stackoverflow.com/questions/11091623/how-to-install-packages-offline  \n",
    "* bonnes pratiques / configuration de l'éditeur (testé avec VSCode)\n",
    "    * `ruff`\n",
    "        * formatage du code (référence de la PEP 8, conventions d'écriture de code python)\n",
    "        * linting : analyse statique du code (le collègue pointilleux)\n",
    "    * `mypy` : linter de code, vérification des types à partir `annotations de types`\n",
    "    * `pylint` : linter de code (différent de ruff)\n",
    "    * la configuration de tous ces outils peut se faire dans un fichier centralisé : `pyproject.toml`\n"
   ]
  },
  {
   "cell_type": "markdown",
   "id": "31568fd1-bd3b-4c83-a882-f069669af088",
   "metadata": {},
   "source": [
    "# Tuple unpacking "
   ]
  },
  {
   "cell_type": "code",
   "execution_count": 36,
   "id": "d0243081-b782-4968-9884-d5a3440323d5",
   "metadata": {},
   "outputs": [
    {
     "name": "stdout",
     "output_type": "stream",
     "text": [
      "1\n",
      "2\n"
     ]
    }
   ],
   "source": [
    "a, b = 1, 2 \n",
    "print(a)\n",
    "print(b)"
   ]
  },
  {
   "cell_type": "code",
   "execution_count": 51,
   "id": "5d42f934-d1c1-474f-b858-18fe946bd6d6",
   "metadata": {},
   "outputs": [
    {
     "name": "stdout",
     "output_type": "stream",
     "text": [
      "1\n",
      "[2, 3, 4]\n"
     ]
    }
   ],
   "source": [
    "a, *_ = [1, 2, 3, 4]\n",
    "print(a)\n",
    "print(_)"
   ]
  },
  {
   "cell_type": "code",
   "execution_count": 54,
   "id": "072a03b6-1404-407b-b6bc-2d1c76480552",
   "metadata": {},
   "outputs": [
    {
     "name": "stdout",
     "output_type": "stream",
     "text": [
      "1 the\n",
      "3.2 [1, 2, 3]\n",
      "1\n",
      "t h e\n",
      "----\n",
      "3.2\n",
      "1 2 3\n",
      "----\n"
     ]
    }
   ],
   "source": [
    "ma_liste = [\n",
    "    [1, \"the\"], \n",
    "    (3.2, [1, 2, 3]),\n",
    "]\n",
    "\n",
    "for element in ma_liste:\n",
    "    premier, deuxieme = element\n",
    "    print(premier, deuxieme)\n",
    "\n",
    "for (premier, (a, b, c)) in ma_liste:\n",
    "    print(premier)\n",
    "    print(a, b, c)\n",
    "    print(\"----\")"
   ]
  },
  {
   "cell_type": "markdown",
   "id": "f312ddad-a022-4bdb-b86f-77a3a59dd545",
   "metadata": {},
   "source": [
    "# Les listes \n",
    "\n",
    "Dans une liste on peut mettre n'importe quel type de données"
   ]
  },
  {
   "cell_type": "code",
   "execution_count": 11,
   "id": "4571c877-2b2e-4761-aa52-37e625410f0f",
   "metadata": {},
   "outputs": [
    {
     "name": "stdout",
     "output_type": "stream",
     "text": [
      "[1, 'zaaezé', [], 126]\n"
     ]
    }
   ],
   "source": [
    "def f(a):\n",
    "    return 42*a\n",
    "\n",
    "l = [1, \"zaaezé\", [], f(3)]\n",
    "print(l)"
   ]
  },
  {
   "cell_type": "code",
   "execution_count": 13,
   "id": "7ed2318b-0ce7-44aa-a57c-ee999f143d99",
   "metadata": {},
   "outputs": [
    {
     "data": {
      "text/plain": [
       "'zaaezé'"
      ]
     },
     "execution_count": 13,
     "metadata": {},
     "output_type": "execute_result"
    }
   ],
   "source": [
    "l[1] # on récupère la valeur présente dans l'index 1"
   ]
  },
  {
   "cell_type": "code",
   "execution_count": 14,
   "id": "5f96e288-4db3-48af-8dba-09c5213a4c08",
   "metadata": {},
   "outputs": [
    {
     "data": {
      "text/plain": [
       "(126, 126)"
      ]
     },
     "execution_count": 14,
     "metadata": {},
     "output_type": "execute_result"
    }
   ],
   "source": [
    "l[3], l[-1]"
   ]
  },
  {
   "cell_type": "markdown",
   "id": "41c13eec-0e85-4cb8-be92-b3afe5251b00",
   "metadata": {},
   "source": [
    "Le -1 vient de cette formulation `l[len(l) - 1]`"
   ]
  },
  {
   "cell_type": "markdown",
   "id": "a1f60b2c-41cc-4732-a835-29604f4652f6",
   "metadata": {},
   "source": [
    "## Erreur d'accès aux éléments \n",
    "\n",
    "On ne peut pas accéder à un index absent de la liste"
   ]
  },
  {
   "cell_type": "code",
   "execution_count": 16,
   "id": "829f5ed7-572a-41a1-b705-b8c823e6b3fd",
   "metadata": {},
   "outputs": [
    {
     "ename": "IndexError",
     "evalue": "list index out of range",
     "output_type": "error",
     "traceback": [
      "\u001b[0;31m---------------------------------------------------------------------------\u001b[0m",
      "\u001b[0;31mIndexError\u001b[0m                                Traceback (most recent call last)",
      "Cell \u001b[0;32mIn[16], line 1\u001b[0m\n\u001b[0;32m----> 1\u001b[0m \u001b[43ml\u001b[49m\u001b[43m[\u001b[49m\u001b[38;5;241;43m5\u001b[39;49m\u001b[43m]\u001b[49m\n",
      "\u001b[0;31mIndexError\u001b[0m: list index out of range"
     ]
    }
   ],
   "source": [
    "l[5]"
   ]
  },
  {
   "cell_type": "code",
   "execution_count": 19,
   "id": "2749176b-02d8-4ce1-a3e6-62b30fdb9d3d",
   "metadata": {},
   "outputs": [
    {
     "ename": "IndexError",
     "evalue": "list index out of range",
     "output_type": "error",
     "traceback": [
      "\u001b[0;31m---------------------------------------------------------------------------\u001b[0m",
      "\u001b[0;31mIndexError\u001b[0m                                Traceback (most recent call last)",
      "Cell \u001b[0;32mIn[19], line 1\u001b[0m\n\u001b[0;32m----> 1\u001b[0m \u001b[43ml\u001b[49m\u001b[43m[\u001b[49m\u001b[38;5;241;43m-\u001b[39;49m\u001b[38;5;241;43m5\u001b[39;49m\u001b[43m]\u001b[49m\n",
      "\u001b[0;31mIndexError\u001b[0m: list index out of range"
     ]
    }
   ],
   "source": [
    "l[-5]"
   ]
  },
  {
   "cell_type": "markdown",
   "id": "b4823536-1a2f-4d2e-b47e-84e8fd144aa8",
   "metadata": {},
   "source": [
    "## Slicing"
   ]
  },
  {
   "cell_type": "code",
   "execution_count": 21,
   "id": "4c3dab61-89d1-4dd0-bc9f-8191a94be8e8",
   "metadata": {},
   "outputs": [],
   "source": [
    "s = \"IndexError: list index out of range\""
   ]
  },
  {
   "cell_type": "code",
   "execution_count": 32,
   "id": "e0321d99-f7a0-46b5-9c89-927abb273a31",
   "metadata": {},
   "outputs": [
    {
     "data": {
      "text/plain": [
       "'neErr'"
      ]
     },
     "execution_count": 32,
     "metadata": {},
     "output_type": "execute_result"
    }
   ],
   "source": [
    "debut = 1\n",
    "fin = 10\n",
    "pas = 2\n",
    "\n",
    "s[debut:fin:pas]"
   ]
  },
  {
   "cell_type": "markdown",
   "id": "9b76cf77-daf3-48d9-a805-d8d0d241320c",
   "metadata": {},
   "source": [
    "# Fizz buzz"
   ]
  },
  {
   "cell_type": "code",
   "execution_count": 61,
   "id": "53fa1478-ceca-420f-adf5-d1db6140387c",
   "metadata": {},
   "outputs": [
    {
     "name": "stdout",
     "output_type": "stream",
     "text": [
      "1\n",
      "2\n",
      "fizz\n",
      "4\n",
      "buzz\n",
      "fizz\n",
      "7\n",
      "8\n",
      "fizz\n",
      "buzz\n",
      "11\n",
      "fizz\n",
      "13\n",
      "14\n",
      "fizzbuzz\n",
      "16\n",
      "17\n",
      "fizz\n",
      "19\n",
      "buzz\n",
      "fizz\n",
      "22\n",
      "23\n",
      "fizz\n",
      "buzz\n",
      "26\n",
      "fizz\n",
      "28\n",
      "29\n",
      "fizzbuzz\n",
      "31\n",
      "32\n",
      "fizz\n",
      "34\n",
      "buzz\n",
      "fizz\n",
      "37\n",
      "38\n",
      "fizz\n",
      "buzz\n",
      "41\n",
      "fizz\n",
      "43\n",
      "44\n",
      "fizzbuzz\n",
      "46\n",
      "47\n",
      "fizz\n",
      "49\n",
      "buzz\n",
      "fizz\n",
      "52\n",
      "53\n",
      "fizz\n",
      "buzz\n",
      "56\n",
      "fizz\n",
      "58\n",
      "59\n",
      "fizzbuzz\n",
      "61\n",
      "62\n",
      "fizz\n",
      "64\n",
      "buzz\n",
      "fizz\n",
      "67\n",
      "68\n",
      "fizz\n",
      "buzz\n",
      "71\n",
      "fizz\n",
      "73\n",
      "74\n",
      "fizzbuzz\n",
      "76\n",
      "77\n",
      "fizz\n",
      "79\n",
      "buzz\n",
      "fizz\n",
      "82\n",
      "83\n",
      "fizz\n",
      "buzz\n",
      "86\n",
      "fizz\n",
      "88\n",
      "89\n",
      "fizzbuzz\n",
      "91\n",
      "92\n",
      "fizz\n",
      "94\n",
      "buzz\n",
      "fizz\n",
      "97\n",
      "98\n",
      "fizz\n",
      "buzz\n"
     ]
    }
   ],
   "source": [
    "for number in range(1, 101):\n",
    "    match number % 3, number % 5:\n",
    "        case 0, 0:\n",
    "            print(\"fizzbuzz\")\n",
    "        case _, 0:\n",
    "            print(\"buzz\")\n",
    "        case 0, _:\n",
    "            print(\"fizz\")\n",
    "        case _:\n",
    "            print(number)"
   ]
  },
  {
   "cell_type": "code",
   "execution_count": null,
   "id": "fc9c9692-3294-4406-b83d-5b7844138774",
   "metadata": {},
   "outputs": [],
   "source": []
  },
  {
   "cell_type": "code",
   "execution_count": 65,
   "id": "4991bb22-0a9f-46dc-8d29-0dccb6ac844a",
   "metadata": {},
   "outputs": [
    {
     "data": {
      "text/plain": [
       "'fizzbuzz'"
      ]
     },
     "execution_count": 65,
     "metadata": {},
     "output_type": "execute_result"
    }
   ],
   "source": [
    "a = \"fizz\"\n",
    "b = \"buzz\"\n",
    "a + b"
   ]
  },
  {
   "cell_type": "code",
   "execution_count": 67,
   "id": "aae4d992-e1b5-4f20-a5df-a85bb1984197",
   "metadata": {},
   "outputs": [
    {
     "data": {
      "text/plain": [
       "(False, True, True, True)"
      ]
     },
     "execution_count": 67,
     "metadata": {},
     "output_type": "execute_result"
    }
   ],
   "source": [
    "bool(0), bool(-1), bool(1), bool(13432)"
   ]
  },
  {
   "cell_type": "code",
   "execution_count": 68,
   "id": "f210a8c2-89b2-4ea4-b1bd-719767ca8c20",
   "metadata": {},
   "outputs": [
    {
     "data": {
      "text/plain": [
       "(0, 1)"
      ]
     },
     "execution_count": 68,
     "metadata": {},
     "output_type": "execute_result"
    }
   ],
   "source": [
    "int(False), int(True)"
   ]
  },
  {
   "cell_type": "code",
   "execution_count": 84,
   "id": "42346ca9-6569-496d-9cf2-3640c0a25e4f",
   "metadata": {},
   "outputs": [
    {
     "data": {
      "text/plain": [
       "'7'"
      ]
     },
     "execution_count": 84,
     "metadata": {},
     "output_type": "execute_result"
    }
   ],
   "source": [
    "n = 7\n",
    "\"fizz\" * (n % 3 == 0) + \"buzz\" * (n % 5 == 0) or str(n)"
   ]
  },
  {
   "cell_type": "code",
   "execution_count": 81,
   "id": "939966ff-16d0-40ee-bef5-c672cbd057cb",
   "metadata": {},
   "outputs": [
    {
     "data": {
      "text/plain": [
       "'7'"
      ]
     },
     "execution_count": 81,
     "metadata": {},
     "output_type": "execute_result"
    }
   ],
   "source": [
    "\"\" or str(7)"
   ]
  },
  {
   "cell_type": "code",
   "execution_count": 113,
   "id": "8aa8d7c2-49d1-4ad1-b4ff-9b0dbb8c78e6",
   "metadata": {},
   "outputs": [
    {
     "name": "stdout",
     "output_type": "stream",
     "text": [
      "[1, 4, 9, 16, 25]\n"
     ]
    }
   ],
   "source": [
    "def f(x):\n",
    "    return x ** 2\n",
    "\n",
    "ma_liste = [1, 2, 3, 4, 5]\n",
    "res = []\n",
    "for element in ma_liste:\n",
    "    tmp = f(element)\n",
    "    res.append(tmp)\n",
    "print(res)\n",
    "\n",
    "import typing\n",
    "\n",
    "type1 = typing.TypeVar(\"type1\")\n",
    "type2 = typing.TypeVar(\"type2\")\n",
    "\n",
    "def my_map(func: typing.Callable[type1, type2], elements: list[type1]) -> list[type2]:\n",
    "    res = []\n",
    "    for element in elements:\n",
    "        tmp = func(element)\n",
    "        res.append(tmp)\n",
    "    return res \n"
   ]
  },
  {
   "cell_type": "code",
   "execution_count": 110,
   "id": "94754892-90cb-4665-b00f-6d8598808d13",
   "metadata": {},
   "outputs": [
    {
     "data": {
      "text/plain": [
       "True"
      ]
     },
     "execution_count": 110,
     "metadata": {},
     "output_type": "execute_result"
    }
   ],
   "source": [
    "list(map(f, ma_liste)) == my_map(f, ma_liste)"
   ]
  },
  {
   "cell_type": "code",
   "execution_count": 95,
   "id": "ad35193a-5ead-48c0-ab7f-31ce65cd7f09",
   "metadata": {},
   "outputs": [
    {
     "data": {
      "text/plain": [
       "[1, 4, 9, 16, 25]"
      ]
     },
     "execution_count": 95,
     "metadata": {},
     "output_type": "execute_result"
    }
   ],
   "source": [
    "[f(element) for element in ma_liste]"
   ]
  },
  {
   "cell_type": "code",
   "execution_count": 97,
   "id": "f1d3187d-3b81-4cab-8ed8-4c773a6ccde0",
   "metadata": {},
   "outputs": [],
   "source": [
    "toto = f"
   ]
  },
  {
   "cell_type": "code",
   "execution_count": 101,
   "id": "5b478556-f210-4411-bc0e-fd15ccec95f4",
   "metadata": {},
   "outputs": [
    {
     "data": {
      "text/plain": [
       "25"
      ]
     },
     "execution_count": 101,
     "metadata": {},
     "output_type": "execute_result"
    }
   ],
   "source": [
    "toto(5)"
   ]
  },
  {
   "cell_type": "code",
   "execution_count": 108,
   "id": "fe6c7b50-5b9f-43da-80ca-441460aca0f4",
   "metadata": {},
   "outputs": [
    {
     "data": {
      "text/plain": [
       "\u001b[0;31mInit signature:\u001b[0m \u001b[0mmap\u001b[0m\u001b[0;34m(\u001b[0m\u001b[0mself\u001b[0m\u001b[0;34m,\u001b[0m \u001b[0;34m/\u001b[0m\u001b[0;34m,\u001b[0m \u001b[0;34m*\u001b[0m\u001b[0margs\u001b[0m\u001b[0;34m,\u001b[0m \u001b[0;34m**\u001b[0m\u001b[0mkwargs\u001b[0m\u001b[0;34m)\u001b[0m\u001b[0;34m\u001b[0m\u001b[0;34m\u001b[0m\u001b[0m\n",
       "\u001b[0;31mDocstring:\u001b[0m     \n",
       "map(func, *iterables) --> map object\n",
       "\n",
       "Make an iterator that computes the function using arguments from\n",
       "each of the iterables.  Stops when the shortest iterable is exhausted.\n",
       "\u001b[0;31mType:\u001b[0m           type\n",
       "\u001b[0;31mSubclasses:\u001b[0m     "
      ]
     },
     "metadata": {},
     "output_type": "display_data"
    }
   ],
   "source": [
    "map?"
   ]
  },
  {
   "cell_type": "markdown",
   "id": "b8e60b34-eab4-4d3c-a572-8256a6a5f440",
   "metadata": {},
   "source": [
    "# Nommage des variables \n",
    "\n",
    "    ma_jolie_variable = \"snake case\"\n",
    "    maJolieVariable = \"camel case\"\n",
    "    MaJolieVariable = \"pascal case\"\n",
    "    MA_JOLIE_VARIABLE = \"uppercase\""
   ]
  },
  {
   "cell_type": "code",
   "execution_count": 114,
   "id": "a7710b74-6790-4788-bb4b-e5f63873aa14",
   "metadata": {},
   "outputs": [
    {
     "data": {
      "text/plain": [
       "\u001b[0;31mInit signature:\u001b[0m \u001b[0mfilter\u001b[0m\u001b[0;34m(\u001b[0m\u001b[0mself\u001b[0m\u001b[0;34m,\u001b[0m \u001b[0;34m/\u001b[0m\u001b[0;34m,\u001b[0m \u001b[0;34m*\u001b[0m\u001b[0margs\u001b[0m\u001b[0;34m,\u001b[0m \u001b[0;34m**\u001b[0m\u001b[0mkwargs\u001b[0m\u001b[0;34m)\u001b[0m\u001b[0;34m\u001b[0m\u001b[0;34m\u001b[0m\u001b[0m\n",
       "\u001b[0;31mDocstring:\u001b[0m     \n",
       "filter(function or None, iterable) --> filter object\n",
       "\n",
       "Return an iterator yielding those items of iterable for which function(item)\n",
       "is true. If function is None, return the items that are true.\n",
       "\u001b[0;31mType:\u001b[0m           type\n",
       "\u001b[0;31mSubclasses:\u001b[0m     "
      ]
     },
     "metadata": {},
     "output_type": "display_data"
    }
   ],
   "source": [
    "filter?"
   ]
  },
  {
   "cell_type": "code",
   "execution_count": 115,
   "id": "5f08a8d9-36a4-4b97-92ab-20c18782d45b",
   "metadata": {},
   "outputs": [
    {
     "ename": "NameError",
     "evalue": "name 'elements' is not defined",
     "output_type": "error",
     "traceback": [
      "\u001b[0;31m---------------------------------------------------------------------------\u001b[0m",
      "\u001b[0;31mNameError\u001b[0m                                 Traceback (most recent call last)",
      "Cell \u001b[0;32mIn[115], line 2\u001b[0m\n\u001b[1;32m      1\u001b[0m res \u001b[38;5;241m=\u001b[39m []\n\u001b[0;32m----> 2\u001b[0m \u001b[38;5;28;01mfor\u001b[39;00m element \u001b[38;5;129;01min\u001b[39;00m \u001b[43melements\u001b[49m:\n\u001b[1;32m      3\u001b[0m     \u001b[38;5;28;01mif\u001b[39;00m est_pair(element):\n\u001b[1;32m      4\u001b[0m         res\u001b[38;5;241m.\u001b[39mappend(element)\n",
      "\u001b[0;31mNameError\u001b[0m: name 'elements' is not defined"
     ]
    }
   ],
   "source": [
    "res = []\n",
    "for element in elements:\n",
    "    if est_pair(element):\n",
    "        res.append(element)"
   ]
  },
  {
   "cell_type": "markdown",
   "id": "72debbdf-2788-4375-b7b6-3cab4e94a2b7",
   "metadata": {},
   "source": [
    "# Pas d'isolation des variables dans les blocs, à part dans les fonctions"
   ]
  },
  {
   "cell_type": "code",
   "execution_count": 119,
   "id": "437a9441-fa91-4501-820e-25759f8b304b",
   "metadata": {},
   "outputs": [
    {
     "name": "stdout",
     "output_type": "stream",
     "text": [
      "s\n",
      "a\n",
      "l\n",
      "u\n",
      "t\n"
     ]
    }
   ],
   "source": [
    "for ezfrgthyjukyjtyrhegzf in \"salut\":\n",
    "    toto = 2\n",
    "    print(ezfrgthyjukyjtyrhegzf)"
   ]
  },
  {
   "cell_type": "code",
   "execution_count": 118,
   "id": "57d9faf5-db05-4f44-be0b-c3c0db44b0cc",
   "metadata": {},
   "outputs": [
    {
     "name": "stdout",
     "output_type": "stream",
     "text": [
      "t\n"
     ]
    }
   ],
   "source": [
    "print(ezfrgthyjukyjtyrhegzf)"
   ]
  },
  {
   "cell_type": "code",
   "execution_count": 120,
   "id": "1b8175d0-2ae2-47de-84d5-d9f99755407f",
   "metadata": {},
   "outputs": [
    {
     "data": {
      "text/plain": [
       "2"
      ]
     },
     "execution_count": 120,
     "metadata": {},
     "output_type": "execute_result"
    }
   ],
   "source": [
    "toto"
   ]
  },
  {
   "cell_type": "code",
   "execution_count": 123,
   "id": "c9b993d2-0908-4459-8153-c8eb944e9477",
   "metadata": {},
   "outputs": [
    {
     "name": "stdout",
     "output_type": "stream",
     "text": [
      "[]\n",
      "[2]\n"
     ]
    }
   ],
   "source": [
    "a = []\n",
    "def oups():\n",
    "    a.append(2)\n",
    "\n",
    "print(a)\n",
    "oups()\n",
    "print(a)"
   ]
  },
  {
   "cell_type": "code",
   "execution_count": 128,
   "id": "e0eec9bc-f053-4ca5-8fac-38ea8ccafa5d",
   "metadata": {},
   "outputs": [
    {
     "name": "stdout",
     "output_type": "stream",
     "text": [
      "2 []\n",
      "2 ['toto']\n"
     ]
    }
   ],
   "source": [
    "b = 2\n",
    "c = []\n",
    "def modifie_parametre(param, param2):\n",
    "    param += 3\n",
    "    param2.append(\"toto\")\n",
    "    \n",
    "print(b, c)\n",
    "modifie_parametre(b, c)\n",
    "print(b, c)"
   ]
  },
  {
   "cell_type": "code",
   "execution_count": 129,
   "id": "0a4e4767-3bca-4e65-92fa-3c459c5c6bfa",
   "metadata": {},
   "outputs": [],
   "source": [
    "def f():\n",
    "    print(uiyhtntrgbferdfez)\n"
   ]
  },
  {
   "cell_type": "code",
   "execution_count": 131,
   "id": "711064e0-f17b-4454-b935-5f59a207f9ae",
   "metadata": {},
   "outputs": [
    {
     "name": "stdout",
     "output_type": "stream",
     "text": [
      "1\n"
     ]
    }
   ],
   "source": [
    "uiyhtntrgbferdfez = 1\n",
    "f()"
   ]
  },
  {
   "cell_type": "code",
   "execution_count": 135,
   "id": "b039954f-b67c-455f-92d3-06a676a8f946",
   "metadata": {},
   "outputs": [],
   "source": [
    "def a():\n",
    "    zatyyht()\n",
    "def zatyyht():\n",
    "    a()\n"
   ]
  },
  {
   "cell_type": "code",
   "execution_count": 140,
   "id": "5a8575ea-60fe-4ce4-8caa-42f7f3d7404e",
   "metadata": {},
   "outputs": [
    {
     "name": "stdout",
     "output_type": "stream",
     "text": [
      "dans ma liste\n"
     ]
    }
   ],
   "source": [
    "def ma_liste():\n",
    "    print(\"dans ma liste\")\n",
    "    return []\n",
    "\n",
    "def f(a, b=ma_liste()):\n",
    "    print(\"dans la fonction\")"
   ]
  },
  {
   "cell_type": "code",
   "execution_count": 161,
   "id": "6e46ee93-4e92-4473-a3fe-05ed11e14b02",
   "metadata": {},
   "outputs": [],
   "source": [
    "def append(elem, li=None):\n",
    "    if li is None:\n",
    "        li = []\n",
    "    li.append(elem)\n",
    "    return li"
   ]
  },
  {
   "cell_type": "code",
   "execution_count": 159,
   "id": "dd4cc5f4-626b-4b0a-8696-fb62504ceb48",
   "metadata": {},
   "outputs": [
    {
     "data": {
      "text/plain": [
       "[2]"
      ]
     },
     "execution_count": 159,
     "metadata": {},
     "output_type": "execute_result"
    }
   ],
   "source": [
    "append(2, [1, 2, 3])"
   ]
  },
  {
   "cell_type": "code",
   "execution_count": 160,
   "id": "bc8385aa-1ecc-4457-8771-3aa4457295ac",
   "metadata": {},
   "outputs": [
    {
     "ename": "AttributeError",
     "evalue": "'NoneType' object has no attribute 'clear'",
     "output_type": "error",
     "traceback": [
      "\u001b[0;31m---------------------------------------------------------------------------\u001b[0m",
      "\u001b[0;31mAttributeError\u001b[0m                            Traceback (most recent call last)",
      "Cell \u001b[0;32mIn[160], line 1\u001b[0m\n\u001b[0;32m----> 1\u001b[0m \u001b[43mappend\u001b[49m\u001b[43m(\u001b[49m\u001b[38;5;241;43m1\u001b[39;49m\u001b[43m)\u001b[49m\n",
      "Cell \u001b[0;32mIn[158], line 2\u001b[0m, in \u001b[0;36mappend\u001b[0;34m(elem, li)\u001b[0m\n\u001b[1;32m      1\u001b[0m \u001b[38;5;28;01mdef\u001b[39;00m \u001b[38;5;21mappend\u001b[39m(elem, li\u001b[38;5;241m=\u001b[39m\u001b[38;5;28;01mNone\u001b[39;00m):\n\u001b[0;32m----> 2\u001b[0m     \u001b[43mli\u001b[49m\u001b[38;5;241;43m.\u001b[39;49m\u001b[43mclear\u001b[49m()\n\u001b[1;32m      3\u001b[0m     li\u001b[38;5;241m.\u001b[39mappend(elem)\n\u001b[1;32m      4\u001b[0m     \u001b[38;5;28;01mreturn\u001b[39;00m li\n",
      "\u001b[0;31mAttributeError\u001b[0m: 'NoneType' object has no attribute 'clear'"
     ]
    }
   ],
   "source": [
    "append(1)"
   ]
  },
  {
   "cell_type": "code",
   "execution_count": null,
   "id": "18918dae-cada-4f6e-8ff9-8fe1dde71abd",
   "metadata": {},
   "outputs": [],
   "source": []
  },
  {
   "cell_type": "code",
   "execution_count": 162,
   "id": "3490c5a9-9d67-467b-8974-540f1cab567c",
   "metadata": {},
   "outputs": [],
   "source": [
    "a = \"une chaine\"\n",
    "b = \"une chaine\""
   ]
  },
  {
   "cell_type": "code",
   "execution_count": 163,
   "id": "cd6c0c23-5a81-4205-9702-72993b079871",
   "metadata": {},
   "outputs": [
    {
     "data": {
      "text/plain": [
       "True"
      ]
     },
     "execution_count": 163,
     "metadata": {},
     "output_type": "execute_result"
    }
   ],
   "source": [
    "a == b"
   ]
  },
  {
   "cell_type": "code",
   "execution_count": 164,
   "id": "d478977e-c2ff-4fa3-889e-3a8775f714ea",
   "metadata": {},
   "outputs": [
    {
     "data": {
      "text/plain": [
       "False"
      ]
     },
     "execution_count": 164,
     "metadata": {},
     "output_type": "execute_result"
    }
   ],
   "source": [
    "a is b"
   ]
  },
  {
   "cell_type": "code",
   "execution_count": 165,
   "id": "64d21360-5fef-43c0-95d7-5868e877a2cd",
   "metadata": {},
   "outputs": [
    {
     "data": {
      "text/plain": [
       "(4505643056, 4499720944)"
      ]
     },
     "execution_count": 165,
     "metadata": {},
     "output_type": "execute_result"
    }
   ],
   "source": [
    "id(a), id(b)"
   ]
  },
  {
   "cell_type": "code",
   "execution_count": 166,
   "id": "39e77a84-01da-4623-9d02-ab57ac361bdf",
   "metadata": {},
   "outputs": [
    {
     "data": {
      "text/plain": [
       "False"
      ]
     },
     "execution_count": 166,
     "metadata": {},
     "output_type": "execute_result"
    }
   ],
   "source": [
    "id(a) == id(b)"
   ]
  },
  {
   "cell_type": "code",
   "execution_count": 167,
   "id": "2bbe6fc5-c3ab-45ab-b5ab-af714bddba3c",
   "metadata": {},
   "outputs": [
    {
     "data": {
      "text/plain": [
       "\u001b[0;31mSignature:\u001b[0m \u001b[0mid\u001b[0m\u001b[0;34m(\u001b[0m\u001b[0mobj\u001b[0m\u001b[0;34m,\u001b[0m \u001b[0;34m/\u001b[0m\u001b[0;34m)\u001b[0m\u001b[0;34m\u001b[0m\u001b[0;34m\u001b[0m\u001b[0m\n",
       "\u001b[0;31mDocstring:\u001b[0m\n",
       "Return the identity of an object.\n",
       "\n",
       "This is guaranteed to be unique among simultaneously existing objects.\n",
       "(CPython uses the object's memory address.)\n",
       "\u001b[0;31mType:\u001b[0m      builtin_function_or_method"
      ]
     },
     "metadata": {},
     "output_type": "display_data"
    }
   ],
   "source": [
    "id?"
   ]
  },
  {
   "cell_type": "markdown",
   "id": "5e8c8eda-4f45-407e-bdca-66d18115b328",
   "metadata": {},
   "source": [
    "# Fonctions lambdas "
   ]
  },
  {
   "cell_type": "code",
   "execution_count": 169,
   "id": "82b2d071-65d6-415b-a74b-802d8106f87f",
   "metadata": {},
   "outputs": [],
   "source": [
    "def addition(a, b):\n",
    "    return a + b \n",
    "\n",
    "addition = lambda a, b: a + b "
   ]
  },
  {
   "cell_type": "code",
   "execution_count": 170,
   "id": "d87d694c-e2c5-4b88-9b95-0771acb5062f",
   "metadata": {},
   "outputs": [
    {
     "data": {
      "text/plain": [
       "[0, 2, 4, 6, 8]"
      ]
     },
     "execution_count": 170,
     "metadata": {},
     "output_type": "execute_result"
    }
   ],
   "source": [
    "list(filter(lambda x: x % 2 == 0, range(10)))"
   ]
  },
  {
   "cell_type": "code",
   "execution_count": 171,
   "id": "8edc785d-b137-41a4-928b-c375342a2d73",
   "metadata": {},
   "outputs": [
    {
     "data": {
      "text/plain": [
       "\u001b[0;31mSignature:\u001b[0m \u001b[0msorted\u001b[0m\u001b[0;34m(\u001b[0m\u001b[0miterable\u001b[0m\u001b[0;34m,\u001b[0m \u001b[0;34m/\u001b[0m\u001b[0;34m,\u001b[0m \u001b[0;34m*\u001b[0m\u001b[0;34m,\u001b[0m \u001b[0mkey\u001b[0m\u001b[0;34m=\u001b[0m\u001b[0;32mNone\u001b[0m\u001b[0;34m,\u001b[0m \u001b[0mreverse\u001b[0m\u001b[0;34m=\u001b[0m\u001b[0;32mFalse\u001b[0m\u001b[0;34m)\u001b[0m\u001b[0;34m\u001b[0m\u001b[0;34m\u001b[0m\u001b[0m\n",
       "\u001b[0;31mDocstring:\u001b[0m\n",
       "Return a new list containing all items from the iterable in ascending order.\n",
       "\n",
       "A custom key function can be supplied to customize the sort order, and the\n",
       "reverse flag can be set to request the result in descending order.\n",
       "\u001b[0;31mType:\u001b[0m      builtin_function_or_method"
      ]
     },
     "metadata": {},
     "output_type": "display_data"
    }
   ],
   "source": [
    "sorted?"
   ]
  },
  {
   "cell_type": "code",
   "execution_count": 175,
   "id": "a4604060-cb6a-4b96-b360-0e809c47d0e4",
   "metadata": {},
   "outputs": [
    {
     "data": {
      "text/plain": [
       "[('c', 1), ('b', 2), ('a', 3)]"
      ]
     },
     "execution_count": 175,
     "metadata": {},
     "output_type": "execute_result"
    }
   ],
   "source": [
    "def champ_tri(element):\n",
    "    return element[1]\n",
    "\n",
    "donnees = [\n",
    "    (\"b\", 2), \n",
    "    (\"a\", 3),\n",
    "    (\"c\", 1), \n",
    "]\n",
    "\n",
    "sorted(donnees, key=lambda e: e[1])"
   ]
  },
  {
   "cell_type": "code",
   "execution_count": 181,
   "id": "fe8c613d-302f-4263-9576-ab55cbc86bc8",
   "metadata": {},
   "outputs": [],
   "source": [
    "def ajoute_avec(nombre):\n",
    "    print(\"1\")\n",
    "    def ajouter_autre(autre_nombre):\n",
    "        print(\"2\")\n",
    "        def ajoute_encore_autre(encore_autre_nombre):\n",
    "            print(\"3\")\n",
    "            return nombre + autre_nombre + encore_autre_nombre\n",
    "        return ajoute_encore_autre\n",
    "    print(\"4\")\n",
    "    return ajouter_autre "
   ]
  },
  {
   "cell_type": "code",
   "execution_count": 182,
   "id": "a04a3027-6dc1-42ab-a190-70e7556eca79",
   "metadata": {},
   "outputs": [
    {
     "name": "stdout",
     "output_type": "stream",
     "text": [
      "1\n",
      "4\n"
     ]
    }
   ],
   "source": [
    "ajoute_avec_10 = ajoute_avec(10)"
   ]
  },
  {
   "cell_type": "code",
   "execution_count": 183,
   "id": "0c7b292b-2816-481c-a3a2-216c2d8e5963",
   "metadata": {},
   "outputs": [
    {
     "name": "stdout",
     "output_type": "stream",
     "text": [
      "2\n"
     ]
    },
    {
     "data": {
      "text/plain": [
       "<function __main__.ajoute_avec.<locals>.ajouter_autre.<locals>.ajoute_encore_autre(encore_autre_nombre)>"
      ]
     },
     "execution_count": 183,
     "metadata": {},
     "output_type": "execute_result"
    }
   ],
   "source": [
    "ajoute_avec_10(5)"
   ]
  },
  {
   "cell_type": "code",
   "execution_count": 184,
   "id": "7dbcd479-5e2c-48cf-9a66-ee81bb98b15d",
   "metadata": {},
   "outputs": [
    {
     "name": "stdout",
     "output_type": "stream",
     "text": [
      "1\n",
      "4\n",
      "2\n"
     ]
    },
    {
     "data": {
      "text/plain": [
       "<function __main__.ajoute_avec.<locals>.ajouter_autre.<locals>.ajoute_encore_autre(encore_autre_nombre)>"
      ]
     },
     "execution_count": 184,
     "metadata": {},
     "output_type": "execute_result"
    }
   ],
   "source": [
    "ajoute_avec(10)(5)"
   ]
  },
  {
   "cell_type": "code",
   "execution_count": 185,
   "id": "3222d828-9ba1-4449-9563-25a071a36d52",
   "metadata": {},
   "outputs": [
    {
     "name": "stdout",
     "output_type": "stream",
     "text": [
      "1\n",
      "4\n",
      "2\n",
      "3\n"
     ]
    },
    {
     "data": {
      "text/plain": [
       "17"
      ]
     },
     "execution_count": 185,
     "metadata": {},
     "output_type": "execute_result"
    }
   ],
   "source": [
    "ajoute_avec(10)(5)(2)"
   ]
  },
  {
   "cell_type": "markdown",
   "id": "76089b93-6627-42dc-b948-1ed4844e95e6",
   "metadata": {},
   "source": [
    "# Décorateur "
   ]
  },
  {
   "cell_type": "code",
   "execution_count": 208,
   "id": "f4803ea1-ccb7-4012-8f8f-2dbbfb0a8668",
   "metadata": {},
   "outputs": [
    {
     "name": "stdout",
     "output_type": "stream",
     "text": [
      "2\n"
     ]
    }
   ],
   "source": [
    "a = f()\n",
    "print(a)"
   ]
  },
  {
   "cell_type": "code",
   "execution_count": 209,
   "id": "dc77733c-fd43-4694-8911-a5eaafd4c1eb",
   "metadata": {},
   "outputs": [
    {
     "name": "stdout",
     "output_type": "stream",
     "text": [
      "Help on function f in module __main__:\n",
      "\n",
      "f()\n",
      "    Ma fonction f\n",
      "\n"
     ]
    }
   ],
   "source": [
    "help(f)"
   ]
  },
  {
   "cell_type": "code",
   "execution_count": null,
   "id": "9fdef396-2d00-46b7-b78b-85201878ccd1",
   "metadata": {},
   "outputs": [],
   "source": []
  },
  {
   "cell_type": "code",
   "execution_count": 207,
   "id": "35dff65e-33fc-41f8-b20c-c221cde611e2",
   "metadata": {},
   "outputs": [],
   "source": [
    "import time \n",
    "import statistics\n",
    "\n",
    "def timer(f):\n",
    "    def wrapper():\n",
    "        times = []\n",
    "        for _ in range(10):\n",
    "            tic = time.time()\n",
    "            res = f()\n",
    "            tac = time.time()\n",
    "            times.append(tac-tic)\n",
    "        print(statistics.mean(times), statistics.stdev(times))\n",
    "        return res \n",
    "    return wrapper \n",
    "\n",
    "\n",
    "#@timer\n",
    "def f():\n",
    "    \"\"\"Ma fonction f\"\"\"\n",
    "    time.sleep(1)\n",
    "    return 2"
   ]
  }
 ],
 "metadata": {
  "kernelspec": {
   "display_name": "Python 3 (ipykernel)",
   "language": "python",
   "name": "python3"
  },
  "language_info": {
   "codemirror_mode": {
    "name": "ipython",
    "version": 3
   },
   "file_extension": ".py",
   "mimetype": "text/x-python",
   "name": "python",
   "nbconvert_exporter": "python",
   "pygments_lexer": "ipython3",
   "version": "3.12.0"
  }
 },
 "nbformat": 4,
 "nbformat_minor": 5
}
