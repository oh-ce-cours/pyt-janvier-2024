{
 "cells": [
  {
   "cell_type": "markdown",
   "id": "a8cc51d3-a221-45e8-900c-efbf486692e7",
   "metadata": {},
   "source": [
    "# Rappel de la journée 1\n",
    "\n",
    "## Matin \n",
    "\n",
    "* présentation générale du langage\n",
    "* présentation des bonnes pratiques (code pythonique)\n",
    "* explication de la variable `path`\n",
    "    * regarder le chemin complet d'une application en faisant\n",
    "        * sous linux: `which`\n",
    "        * sous windows: `where` (renvoie les résultats qui ont le même nom dans tous les dossiers du PATH, le premier est le plus prioritaire)\n",
    "\n",
    "## Après-midi \n",
    "\n",
    "* `venv`\n",
    "    * permet d'encapsuler les dépendances liées à un projet\n",
    "    * pour le créer : `python -m venv LE_NOM_DU_VENV`\n",
    "    * va surcharger le PATH pour utiliser l'interpréteur du venv\n",
    "    * activer l'environnement\n",
    "        * windows : `venv/Scripts/activate`\n",
    "        * unix : `source venv/bin/activate`\n",
    "        * depuis VSCode ou PyCharm en cliquant sur la selection de l'interpréteur\n",
    "* librairies `builtin`, librairie standard, librairie tierces (installées avec `pip`)\n",
    "* installer des paquets sans avoir internet (`pip download` puis installation depuis un dossier spécifique) : https://stackoverflow.com/questions/11091623/how-to-install-packages-offline  \n",
    "* bonnes pratiques / configuration de l'éditeur (testé avec VSCode)\n",
    "    * `ruff`\n",
    "        * formatage du code (référence de la PEP 8, conventions d'écriture de code python)\n",
    "        * linting : analyse statique du code (le collègue pointilleux)\n",
    "    * `mypy` : linter de code, vérification des types à partir `annotations de types`\n",
    "    * `pylint` : linter de code (différent de ruff)\n",
    "    * la configuration de tous ces outils peut se faire dans un fichier centralisé : `pyproject.toml`\n"
   ]
  },
  {
   "cell_type": "markdown",
   "id": "31568fd1-bd3b-4c83-a882-f069669af088",
   "metadata": {},
   "source": [
    "# Tuple unpacking "
   ]
  },
  {
   "cell_type": "code",
   "execution_count": 3,
   "id": "d0243081-b782-4968-9884-d5a3440323d5",
   "metadata": {},
   "outputs": [
    {
     "name": "stdout",
     "output_type": "stream",
     "text": [
      "1\n",
      "2\n"
     ]
    }
   ],
   "source": [
    "a, b = 1, 2 \n",
    "print(a)\n",
    "print(b)"
   ]
  },
  {
   "cell_type": "code",
   "execution_count": 4,
   "id": "072a03b6-1404-407b-b6bc-2d1c76480552",
   "metadata": {},
   "outputs": [],
   "source": [
    "a = [\n",
    "    (), \n",
    "    (),\n",
    "]"
   ]
  },
  {
   "cell_type": "markdown",
   "id": "f312ddad-a022-4bdb-b86f-77a3a59dd545",
   "metadata": {},
   "source": [
    "# Les listes \n",
    "\n",
    "Dans une liste on peut mettre n'importe quel type de données"
   ]
  },
  {
   "cell_type": "code",
   "execution_count": 11,
   "id": "4571c877-2b2e-4761-aa52-37e625410f0f",
   "metadata": {},
   "outputs": [
    {
     "name": "stdout",
     "output_type": "stream",
     "text": [
      "[1, 'zaaezé', [], 126]\n"
     ]
    }
   ],
   "source": [
    "def f(a):\n",
    "    return 42*a\n",
    "\n",
    "l = [1, \"zaaezé\", [], f(3)]\n",
    "print(l)"
   ]
  },
  {
   "cell_type": "code",
   "execution_count": 13,
   "id": "7ed2318b-0ce7-44aa-a57c-ee999f143d99",
   "metadata": {},
   "outputs": [
    {
     "data": {
      "text/plain": [
       "'zaaezé'"
      ]
     },
     "execution_count": 13,
     "metadata": {},
     "output_type": "execute_result"
    }
   ],
   "source": [
    "l[1] # on récupère la valeur présente dans l'index 1"
   ]
  },
  {
   "cell_type": "code",
   "execution_count": 14,
   "id": "5f96e288-4db3-48af-8dba-09c5213a4c08",
   "metadata": {},
   "outputs": [
    {
     "data": {
      "text/plain": [
       "(126, 126)"
      ]
     },
     "execution_count": 14,
     "metadata": {},
     "output_type": "execute_result"
    }
   ],
   "source": [
    "l[3], l[-1]"
   ]
  },
  {
   "cell_type": "markdown",
   "id": "41c13eec-0e85-4cb8-be92-b3afe5251b00",
   "metadata": {},
   "source": [
    "Le -1 vient de cette formalation `l[len(l) - 1]`"
   ]
  },
  {
   "cell_type": "code",
   "execution_count": 16,
   "id": "829f5ed7-572a-41a1-b705-b8c823e6b3fd",
   "metadata": {},
   "outputs": [
    {
     "ename": "IndexError",
     "evalue": "list index out of range",
     "output_type": "error",
     "traceback": [
      "\u001b[0;31m---------------------------------------------------------------------------\u001b[0m",
      "\u001b[0;31mIndexError\u001b[0m                                Traceback (most recent call last)",
      "Cell \u001b[0;32mIn[16], line 1\u001b[0m\n\u001b[0;32m----> 1\u001b[0m \u001b[43ml\u001b[49m\u001b[43m[\u001b[49m\u001b[38;5;241;43m5\u001b[39;49m\u001b[43m]\u001b[49m\n",
      "\u001b[0;31mIndexError\u001b[0m: list index out of range"
     ]
    }
   ],
   "source": [
    "l[5]"
   ]
  },
  {
   "cell_type": "code",
   "execution_count": 19,
   "id": "2749176b-02d8-4ce1-a3e6-62b30fdb9d3d",
   "metadata": {},
   "outputs": [
    {
     "ename": "IndexError",
     "evalue": "list index out of range",
     "output_type": "error",
     "traceback": [
      "\u001b[0;31m---------------------------------------------------------------------------\u001b[0m",
      "\u001b[0;31mIndexError\u001b[0m                                Traceback (most recent call last)",
      "Cell \u001b[0;32mIn[19], line 1\u001b[0m\n\u001b[0;32m----> 1\u001b[0m \u001b[43ml\u001b[49m\u001b[43m[\u001b[49m\u001b[38;5;241;43m-\u001b[39;49m\u001b[38;5;241;43m5\u001b[39;49m\u001b[43m]\u001b[49m\n",
      "\u001b[0;31mIndexError\u001b[0m: list index out of range"
     ]
    }
   ],
   "source": [
    "l[-5]"
   ]
  },
  {
   "cell_type": "code",
   "execution_count": 21,
   "id": "4c3dab61-89d1-4dd0-bc9f-8191a94be8e8",
   "metadata": {},
   "outputs": [],
   "source": [
    "s = \"IndexError: list index out of range\""
   ]
  },
  {
   "cell_type": "code",
   "execution_count": 29,
   "id": "e0321d99-f7a0-46b5-9c89-927abb273a31",
   "metadata": {},
   "outputs": [
    {
     "data": {
      "text/plain": [
       "'Ierrltnxuorg'"
      ]
     },
     "execution_count": 29,
     "metadata": {},
     "output_type": "execute_result"
    }
   ],
   "source": [
    "s[::3]"
   ]
  },
  {
   "cell_type": "code",
   "execution_count": null,
   "id": "705431af-4430-4cfe-8e8c-c9c069d0d506",
   "metadata": {},
   "outputs": [],
   "source": []
  }
 ],
 "metadata": {
  "kernelspec": {
   "display_name": "Python 3 (ipykernel)",
   "language": "python",
   "name": "python3"
  },
  "language_info": {
   "codemirror_mode": {
    "name": "ipython",
    "version": 3
   },
   "file_extension": ".py",
   "mimetype": "text/x-python",
   "name": "python",
   "nbconvert_exporter": "python",
   "pygments_lexer": "ipython3",
   "version": "3.12.0"
  }
 },
 "nbformat": 4,
 "nbformat_minor": 5
}
