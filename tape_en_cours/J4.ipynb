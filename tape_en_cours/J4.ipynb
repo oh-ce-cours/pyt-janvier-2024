{
 "cells": [
  {
   "cell_type": "markdown",
   "id": "8e879a8a-a1be-49f1-8f7d-1b4692309f28",
   "metadata": {},
   "source": [
    "# OOP\n",
    "    * properties\n",
    "    * context managers\n",
    "\n",
    "# Generateurs / opérations paraisseuses \n",
    "    * manipulation de gros fichiers \n",
    "    * context managers\n",
    "\n",
    "# tests unitaires \n",
    "# imports de modules \n",
    "\n",
    "# Flask \n",
    "# Pandas "
   ]
  },
  {
   "cell_type": "markdown",
   "id": "e5ac0a63-a235-4062-8270-861b88658142",
   "metadata": {},
   "source": [
    "# Rappels du jour 3 \n",
    "\n",
    "* décorateurs\n",
    "    * recoder le cache\n",
    "    * \n",
    "* arguments de fonctions (`*args / **kwargs`)\n",
    "    * `*args` : arguments positionnels\n",
    "    * `**kwargs` : arguments nommés\n",
    "\n",
    "* POO\n",
    "* exceptions\n",
    "    * `raise` (permet de lever une exception spécifique)\n",
    "    * gestion d'exception :\n",
    "        * `try` : le plus spécifique, on isole les points d'exceptions\n",
    "        * `except` : \n",
    "        * `else`\n",
    "        * `finally`"
   ]
  },
  {
   "cell_type": "code",
   "execution_count": 14,
   "id": "230e77f0-4904-46bf-91e0-b3a2ab1ed269",
   "metadata": {},
   "outputs": [
    {
     "name": "stdout",
     "output_type": "stream",
     "text": [
      "can't import networkx\n"
     ]
    }
   ],
   "source": [
    "a = 1\n",
    "b = 0\n",
    "\n",
    "try:\n",
    "    a / b \n",
    "    import networkx\n",
    "except: \n",
    "    print(\"can't import networkx\") "
   ]
  },
  {
   "cell_type": "code",
   "execution_count": 11,
   "id": "0c6cc5a8-2e8a-4015-a611-7b7ea61f7312",
   "metadata": {},
   "outputs": [],
   "source": [
    "import random \n",
    "\n",
    "for i in range(10):\n",
    "    if random.random() > 0.5:\n",
    "        import os \n",
    "    else:\n",
    "        import sys \n",
    "\n",
    "\n",
    "def f():\n",
    "    import math\n",
    "    print(math)"
   ]
  },
  {
   "cell_type": "code",
   "execution_count": 12,
   "id": "3b4e25d5-25ae-43da-bb74-e130d083df3c",
   "metadata": {},
   "outputs": [
    {
     "name": "stdout",
     "output_type": "stream",
     "text": [
      "<module 'math' from '/Users/mfalce/anaconda3/envs/formation_ing/lib/python3.12/lib-dynload/math.cpython-312-darwin.so'>\n"
     ]
    }
   ],
   "source": [
    "f()"
   ]
  },
  {
   "cell_type": "code",
   "execution_count": 13,
   "id": "9fd44a02-0874-4591-bed9-750b6736e19c",
   "metadata": {},
   "outputs": [
    {
     "ename": "NameError",
     "evalue": "name 'math' is not defined",
     "output_type": "error",
     "traceback": [
      "\u001b[0;31m---------------------------------------------------------------------------\u001b[0m",
      "\u001b[0;31mNameError\u001b[0m                                 Traceback (most recent call last)",
      "Cell \u001b[0;32mIn[13], line 1\u001b[0m\n\u001b[0;32m----> 1\u001b[0m \u001b[43mmath\u001b[49m\n",
      "\u001b[0;31mNameError\u001b[0m: name 'math' is not defined"
     ]
    }
   ],
   "source": [
    "math"
   ]
  },
  {
   "cell_type": "code",
   "execution_count": null,
   "id": "9cc221fc-097f-4e7e-8a8c-94c2f7fd7f36",
   "metadata": {},
   "outputs": [],
   "source": []
  }
 ],
 "metadata": {
  "kernelspec": {
   "display_name": "Python 3 (ipykernel)",
   "language": "python",
   "name": "python3"
  },
  "language_info": {
   "codemirror_mode": {
    "name": "ipython",
    "version": 3
   },
   "file_extension": ".py",
   "mimetype": "text/x-python",
   "name": "python",
   "nbconvert_exporter": "python",
   "pygments_lexer": "ipython3",
   "version": "3.12.0"
  }
 },
 "nbformat": 4,
 "nbformat_minor": 5
}
