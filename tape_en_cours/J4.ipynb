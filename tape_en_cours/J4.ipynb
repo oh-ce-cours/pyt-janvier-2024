{
 "cells": [
  {
   "cell_type": "markdown",
   "id": "8e879a8a-a1be-49f1-8f7d-1b4692309f28",
   "metadata": {},
   "source": [
    "# OOP\n",
    "    * properties\n",
    "\n",
    "# Generateurs / opérations paraisseuses \n",
    "    * manipulation de gros fichiers \n",
    "\n",
    "# tests unitaires \n",
    "# imports de modules \n",
    "\n",
    "# Flask \n",
    "# Pandas "
   ]
  },
  {
   "cell_type": "code",
   "execution_count": null,
   "id": "70902829-505f-4a03-aec7-bca9b9598316",
   "metadata": {},
   "outputs": [],
   "source": []
  }
 ],
 "metadata": {
  "kernelspec": {
   "display_name": "Python 3 (ipykernel)",
   "language": "python",
   "name": "python3"
  },
  "language_info": {
   "codemirror_mode": {
    "name": "ipython",
    "version": 3
   },
   "file_extension": ".py",
   "mimetype": "text/x-python",
   "name": "python",
   "nbconvert_exporter": "python",
   "pygments_lexer": "ipython3",
   "version": "3.12.0"
  }
 },
 "nbformat": 4,
 "nbformat_minor": 5
}
