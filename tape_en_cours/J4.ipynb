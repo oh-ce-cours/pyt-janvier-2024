{
 "cells": [
  {
   "cell_type": "markdown",
   "id": "8e879a8a-a1be-49f1-8f7d-1b4692309f28",
   "metadata": {},
   "source": [
    "```\n",
    "# OOP\n",
    "    * properties\n",
    "    * context managers\n",
    "\n",
    "# Generateurs / opérations paraisseuses \n",
    "    * manipulation de gros fichiers \n",
    "    * context managers\n",
    "\n",
    "# tests unitaires \n",
    "# imports de modules \n",
    "\n",
    "# Flask \n",
    "# Pandas\n",
    "````"
   ]
  },
  {
   "cell_type": "markdown",
   "id": "e5ac0a63-a235-4062-8270-861b88658142",
   "metadata": {},
   "source": [
    "# Rappels du jour 3 \n",
    "\n",
    "* décorateurs\n",
    "    * recoder le cache\n",
    "    * \n",
    "* arguments de fonctions (`*args / **kwargs`)\n",
    "    * `*args` : arguments positionnels\n",
    "    * `**kwargs` : arguments nommés\n",
    "\n",
    "* POO\n",
    "* exceptions\n",
    "    * `raise` (permet de lever une exception spécifique)\n",
    "    * gestion d'exception :\n",
    "        * `try` : le plus spécifique, on isole les points d'exceptions\n",
    "        * `except` : \n",
    "        * `else`\n",
    "        * `finally`"
   ]
  },
  {
   "cell_type": "code",
   "execution_count": 16,
   "id": "230e77f0-4904-46bf-91e0-b3a2ab1ed269",
   "metadata": {},
   "outputs": [
    {
     "name": "stdout",
     "output_type": "stream",
     "text": [
      "can't import networkx\n"
     ]
    }
   ],
   "source": [
    "a = 1\n",
    "b = 0\n",
    "\n",
    "try:\n",
    "    a / b \n",
    "    import networkx\n",
    "except: \n",
    "    print(\"can't import networkx\") "
   ]
  },
  {
   "cell_type": "code",
   "execution_count": 11,
   "id": "0c6cc5a8-2e8a-4015-a611-7b7ea61f7312",
   "metadata": {},
   "outputs": [],
   "source": [
    "import random \n",
    "\n",
    "for i in range(10):\n",
    "    if random.random() > 0.5:\n",
    "        import os \n",
    "    else:\n",
    "        import sys \n",
    "\n",
    "\n",
    "def f():\n",
    "    import math\n",
    "    print(math)"
   ]
  },
  {
   "cell_type": "code",
   "execution_count": 12,
   "id": "3b4e25d5-25ae-43da-bb74-e130d083df3c",
   "metadata": {},
   "outputs": [
    {
     "name": "stdout",
     "output_type": "stream",
     "text": [
      "<module 'math' from '/Users/mfalce/anaconda3/envs/formation_ing/lib/python3.12/lib-dynload/math.cpython-312-darwin.so'>\n"
     ]
    }
   ],
   "source": [
    "f()"
   ]
  },
  {
   "cell_type": "code",
   "execution_count": 19,
   "id": "9fd44a02-0874-4591-bed9-750b6736e19c",
   "metadata": {},
   "outputs": [
    {
     "data": {
      "text/plain": [
       "'/Users/mfalce/anaconda3/envs/formation_ing/bin/python'"
      ]
     },
     "execution_count": 19,
     "metadata": {},
     "output_type": "execute_result"
    }
   ],
   "source": [
    "import sys \n",
    "\n",
    "sys.executable"
   ]
  },
  {
   "cell_type": "code",
   "execution_count": 20,
   "id": "9cc221fc-097f-4e7e-8a8c-94c2f7fd7f36",
   "metadata": {},
   "outputs": [
    {
     "data": {
      "text/plain": [
       "'/Users/mfalce/anaconda3/envs/formation_ing/bin/python'"
      ]
     },
     "execution_count": 20,
     "metadata": {},
     "output_type": "execute_result"
    }
   ],
   "source": [
    "from sys import executable, exit \n",
    "\n",
    "executable"
   ]
  },
  {
   "cell_type": "markdown",
   "id": "5a4fca5d-8537-44f7-b59c-1b81e7d9c760",
   "metadata": {},
   "source": [
    "```\n",
    "from math import cos as math_cos\n",
    "from numpy import cos as numpy_cos \n",
    "\n",
    "import numpy as np \n",
    "import pandas as pd\n",
    "\n",
    "````\n"
   ]
  },
  {
   "cell_type": "code",
   "execution_count": 22,
   "id": "4ae00926-7f00-4e61-84c5-7497e3c6a3f6",
   "metadata": {},
   "outputs": [],
   "source": [
    "max = 2"
   ]
  },
  {
   "cell_type": "code",
   "execution_count": 23,
   "id": "ec216c8f-eac1-47f4-8ee6-3054aab9e53d",
   "metadata": {},
   "outputs": [
    {
     "ename": "TypeError",
     "evalue": "'int' object is not callable",
     "output_type": "error",
     "traceback": [
      "\u001b[0;31m---------------------------------------------------------------------------\u001b[0m",
      "\u001b[0;31mTypeError\u001b[0m                                 Traceback (most recent call last)",
      "Cell \u001b[0;32mIn[23], line 1\u001b[0m\n\u001b[0;32m----> 1\u001b[0m \u001b[38;5;28;43mmax\u001b[39;49m\u001b[43m(\u001b[49m\u001b[43m[\u001b[49m\u001b[38;5;241;43m1\u001b[39;49m\u001b[43m,\u001b[49m\u001b[43m \u001b[49m\u001b[38;5;241;43m2\u001b[39;49m\u001b[43m,\u001b[49m\u001b[43m \u001b[49m\u001b[38;5;241;43m3\u001b[39;49m\u001b[43m]\u001b[49m\u001b[43m)\u001b[49m\n",
      "\u001b[0;31mTypeError\u001b[0m: 'int' object is not callable"
     ]
    }
   ],
   "source": [
    "max([1, 2, 3])"
   ]
  },
  {
   "cell_type": "code",
   "execution_count": 24,
   "id": "dc711ffc-1866-4fec-97d4-72e50cf491a3",
   "metadata": {},
   "outputs": [],
   "source": [
    "import builtins "
   ]
  },
  {
   "cell_type": "code",
   "execution_count": 25,
   "id": "b8d8437f-da38-469b-9837-85dcfe463894",
   "metadata": {},
   "outputs": [],
   "source": [
    "max = builtins.max"
   ]
  },
  {
   "cell_type": "code",
   "execution_count": 26,
   "id": "7aeb5a06-2dcd-48a8-86ca-15c88fb344c1",
   "metadata": {},
   "outputs": [
    {
     "data": {
      "text/plain": [
       "<function max>"
      ]
     },
     "execution_count": 26,
     "metadata": {},
     "output_type": "execute_result"
    }
   ],
   "source": [
    "max"
   ]
  },
  {
   "cell_type": "markdown",
   "id": "084d4afc-7d00-444c-a275-33c901070e79",
   "metadata": {},
   "source": [
    "# Context managers"
   ]
  },
  {
   "cell_type": "code",
   "execution_count": 47,
   "id": "72c78c26-5f49-4e34-86b4-c795eb8fa9a1",
   "metadata": {},
   "outputs": [],
   "source": [
    "class Personne:\n",
    "    def __init__(self, nom_attribut, age):\n",
    "        self.nom = nom_attribut\n",
    "        self.age = age\n",
    "\n",
    "    def presente(self):\n",
    "        print(f\"Mon nom est {self.nom}\")\n",
    "\n",
    "    def __enter__(self):\n",
    "        print(\"dans enter\")\n",
    "        return \"un truc\" \n",
    "\n",
    "    def __exit__(self, exception_type, exception_instance, traceback):\n",
    "        print(args)\n",
    "        print(\"dans exit\", args) "
   ]
  },
  {
   "cell_type": "code",
   "execution_count": 48,
   "id": "2db9e85e-03df-4088-9809-5e651c4aa906",
   "metadata": {},
   "outputs": [
    {
     "name": "stdout",
     "output_type": "stream",
     "text": [
      "dans enter\n",
      "coucou\n",
      "(<class 'ZeroDivisionError'>, ZeroDivisionError('division by zero'), <traceback object at 0x10afd6180>)\n",
      "dans exit (<class 'ZeroDivisionError'>, ZeroDivisionError('division by zero'), <traceback object at 0x10afd6180>)\n"
     ]
    },
    {
     "ename": "ZeroDivisionError",
     "evalue": "division by zero",
     "output_type": "error",
     "traceback": [
      "\u001b[0;31m---------------------------------------------------------------------------\u001b[0m",
      "\u001b[0;31mZeroDivisionError\u001b[0m                         Traceback (most recent call last)",
      "Cell \u001b[0;32mIn[48], line 4\u001b[0m\n\u001b[1;32m      2\u001b[0m \u001b[38;5;28;01mwith\u001b[39;00m matthieu:\n\u001b[1;32m      3\u001b[0m     \u001b[38;5;28mprint\u001b[39m(\u001b[38;5;124m\"\u001b[39m\u001b[38;5;124mcoucou\u001b[39m\u001b[38;5;124m\"\u001b[39m)\n\u001b[0;32m----> 4\u001b[0m     \u001b[38;5;241;43m1\u001b[39;49m\u001b[38;5;241;43m/\u001b[39;49m\u001b[38;5;241;43m0\u001b[39;49m\n",
      "\u001b[0;31mZeroDivisionError\u001b[0m: division by zero"
     ]
    }
   ],
   "source": [
    "matthieu = Personne(\"matthieu\", 33)\n",
    "with matthieu:\n",
    "    print(\"coucou\")\n",
    "    1/0"
   ]
  },
  {
   "cell_type": "markdown",
   "id": "1699fb55-2495-4a53-8f45-76dd03f66cc9",
   "metadata": {},
   "source": [
    "matthieu.presente() <=> type(matthieu) => Personne => (methode de classe) Personne.presente(type(matthieu))"
   ]
  },
  {
   "cell_type": "code",
   "execution_count": 40,
   "id": "f535b09c-9ba8-4975-a0ea-f3ce76b94c6a",
   "metadata": {},
   "outputs": [
    {
     "data": {
      "text/plain": [
       "True"
      ]
     },
     "execution_count": 40,
     "metadata": {},
     "output_type": "execute_result"
    }
   ],
   "source": [
    "hasattr(matthieu, \"__enter__\") and hasattr(matthieu, \"__exit__\")"
   ]
  },
  {
   "cell_type": "code",
   "execution_count": 52,
   "id": "ad0a692a-996f-49bb-8507-c03b9fbb07ac",
   "metadata": {},
   "outputs": [
    {
     "name": "stdout",
     "output_type": "stream",
     "text": [
      "timer.start=1705582050.85328\n",
      "2.0037198066711426\n"
     ]
    }
   ],
   "source": [
    "import time \n",
    "\n",
    "class Timer():\n",
    "    def __init__(self):\n",
    "        self.start = None \n",
    "        self.stop = None \n",
    "\n",
    "    def __enter__(self):\n",
    "        self.start = time.time()\n",
    "        return self\n",
    "\n",
    "    def __exit__(self, *args):\n",
    "        self.stop = time.time()\n",
    "        print(self.stop - self.start)\n",
    "\n",
    "with Timer() as timer:\n",
    "    print(f\"{timer.start=}\")\n",
    "    time.sleep(2)"
   ]
  },
  {
   "cell_type": "code",
   "execution_count": 57,
   "id": "a149f851-5fd4-44ec-a6a2-98803e051942",
   "metadata": {},
   "outputs": [
    {
     "name": "stdout",
     "output_type": "stream",
     "text": [
      "Harry Potter 1\n",
      "Harry Potter 2\n"
     ]
    }
   ],
   "source": [
    "class Bibliotheques:\n",
    "    def __init__(self, livres: list[str]):\n",
    "        self.livres = livres\n",
    "\n",
    "    def __iter__(self):\n",
    "        # différence entre itérable / générateurs et itérateurs\n",
    "        # https://stackoverflow.com/questions/2776829/difference-between-pythons-generators-and-iterators\n",
    "        return iter(self.livres)\n",
    "\n",
    "b = Bibliotheques([\"Harry Potter 1\", \"Harry Potter 2\"])\n",
    "for livre in b: \n",
    "    print(livre)"
   ]
  },
  {
   "cell_type": "code",
   "execution_count": null,
   "id": "b2bcd460-6db4-4af2-a956-4a4b11c70015",
   "metadata": {},
   "outputs": [],
   "source": []
  }
 ],
 "metadata": {
  "kernelspec": {
   "display_name": "Python 3 (ipykernel)",
   "language": "python",
   "name": "python3"
  },
  "language_info": {
   "codemirror_mode": {
    "name": "ipython",
    "version": 3
   },
   "file_extension": ".py",
   "mimetype": "text/x-python",
   "name": "python",
   "nbconvert_exporter": "python",
   "pygments_lexer": "ipython3",
   "version": "3.12.0"
  }
 },
 "nbformat": 4,
 "nbformat_minor": 5
}
