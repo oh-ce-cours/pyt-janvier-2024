{
 "cells": [
  {
   "cell_type": "markdown",
   "id": "8e879a8a-a1be-49f1-8f7d-1b4692309f28",
   "metadata": {},
   "source": [
    "```\n",
    "# OOP\n",
    "    * properties\n",
    "    * context managers\n",
    "\n",
    "# Generateurs / opérations paraisseuses \n",
    "    * manipulation de gros fichiers \n",
    "    * context managers\n",
    "\n",
    "# tests unitaires \n",
    "# imports de modules \n",
    "\n",
    "# Flask \n",
    "# Pandas\n",
    "````"
   ]
  },
  {
   "cell_type": "markdown",
   "id": "e5ac0a63-a235-4062-8270-861b88658142",
   "metadata": {},
   "source": [
    "# Rappels du jour 3 \n",
    "\n",
    "* décorateurs\n",
    "    * recoder le cache\n",
    "    * \n",
    "* arguments de fonctions (`*args / **kwargs`)\n",
    "    * `*args` : arguments positionnels\n",
    "    * `**kwargs` : arguments nommés\n",
    "\n",
    "* POO\n",
    "* exceptions\n",
    "    * `raise` (permet de lever une exception spécifique)\n",
    "    * gestion d'exception :\n",
    "        * `try` : le plus spécifique, on isole les points d'exceptions\n",
    "        * `except` : \n",
    "        * `else`\n",
    "        * `finally`"
   ]
  },
  {
   "cell_type": "code",
   "execution_count": 16,
   "id": "230e77f0-4904-46bf-91e0-b3a2ab1ed269",
   "metadata": {},
   "outputs": [
    {
     "name": "stdout",
     "output_type": "stream",
     "text": [
      "can't import networkx\n"
     ]
    }
   ],
   "source": [
    "a = 1\n",
    "b = 0\n",
    "\n",
    "try:\n",
    "    a / b \n",
    "    import networkx\n",
    "except: \n",
    "    print(\"can't import networkx\") "
   ]
  },
  {
   "cell_type": "code",
   "execution_count": 11,
   "id": "0c6cc5a8-2e8a-4015-a611-7b7ea61f7312",
   "metadata": {},
   "outputs": [],
   "source": [
    "import random \n",
    "\n",
    "for i in range(10):\n",
    "    if random.random() > 0.5:\n",
    "        import os \n",
    "    else:\n",
    "        import sys \n",
    "\n",
    "\n",
    "def f():\n",
    "    import math\n",
    "    print(math)"
   ]
  },
  {
   "cell_type": "code",
   "execution_count": 12,
   "id": "3b4e25d5-25ae-43da-bb74-e130d083df3c",
   "metadata": {},
   "outputs": [
    {
     "name": "stdout",
     "output_type": "stream",
     "text": [
      "<module 'math' from '/Users/mfalce/anaconda3/envs/formation_ing/lib/python3.12/lib-dynload/math.cpython-312-darwin.so'>\n"
     ]
    }
   ],
   "source": [
    "f()"
   ]
  },
  {
   "cell_type": "code",
   "execution_count": 19,
   "id": "9fd44a02-0874-4591-bed9-750b6736e19c",
   "metadata": {},
   "outputs": [
    {
     "data": {
      "text/plain": [
       "'/Users/mfalce/anaconda3/envs/formation_ing/bin/python'"
      ]
     },
     "execution_count": 19,
     "metadata": {},
     "output_type": "execute_result"
    }
   ],
   "source": [
    "import sys \n",
    "\n",
    "sys.executable"
   ]
  },
  {
   "cell_type": "code",
   "execution_count": 20,
   "id": "9cc221fc-097f-4e7e-8a8c-94c2f7fd7f36",
   "metadata": {},
   "outputs": [
    {
     "data": {
      "text/plain": [
       "'/Users/mfalce/anaconda3/envs/formation_ing/bin/python'"
      ]
     },
     "execution_count": 20,
     "metadata": {},
     "output_type": "execute_result"
    }
   ],
   "source": [
    "from sys import executable, exit \n",
    "\n",
    "executable"
   ]
  },
  {
   "cell_type": "markdown",
   "id": "5a4fca5d-8537-44f7-b59c-1b81e7d9c760",
   "metadata": {},
   "source": [
    "```\n",
    "from math import cos as math_cos\n",
    "from numpy import cos as numpy_cos \n",
    "\n",
    "import numpy as np \n",
    "import pandas as pd\n",
    "\n",
    "````\n"
   ]
  },
  {
   "cell_type": "code",
   "execution_count": 22,
   "id": "4ae00926-7f00-4e61-84c5-7497e3c6a3f6",
   "metadata": {},
   "outputs": [],
   "source": [
    "max = 2"
   ]
  },
  {
   "cell_type": "code",
   "execution_count": 23,
   "id": "ec216c8f-eac1-47f4-8ee6-3054aab9e53d",
   "metadata": {},
   "outputs": [
    {
     "ename": "TypeError",
     "evalue": "'int' object is not callable",
     "output_type": "error",
     "traceback": [
      "\u001b[0;31m---------------------------------------------------------------------------\u001b[0m",
      "\u001b[0;31mTypeError\u001b[0m                                 Traceback (most recent call last)",
      "Cell \u001b[0;32mIn[23], line 1\u001b[0m\n\u001b[0;32m----> 1\u001b[0m \u001b[38;5;28;43mmax\u001b[39;49m\u001b[43m(\u001b[49m\u001b[43m[\u001b[49m\u001b[38;5;241;43m1\u001b[39;49m\u001b[43m,\u001b[49m\u001b[43m \u001b[49m\u001b[38;5;241;43m2\u001b[39;49m\u001b[43m,\u001b[49m\u001b[43m \u001b[49m\u001b[38;5;241;43m3\u001b[39;49m\u001b[43m]\u001b[49m\u001b[43m)\u001b[49m\n",
      "\u001b[0;31mTypeError\u001b[0m: 'int' object is not callable"
     ]
    }
   ],
   "source": [
    "max([1, 2, 3])"
   ]
  },
  {
   "cell_type": "code",
   "execution_count": 24,
   "id": "dc711ffc-1866-4fec-97d4-72e50cf491a3",
   "metadata": {},
   "outputs": [],
   "source": [
    "import builtins "
   ]
  },
  {
   "cell_type": "code",
   "execution_count": 25,
   "id": "b8d8437f-da38-469b-9837-85dcfe463894",
   "metadata": {},
   "outputs": [],
   "source": [
    "max = builtins.max"
   ]
  },
  {
   "cell_type": "code",
   "execution_count": 26,
   "id": "7aeb5a06-2dcd-48a8-86ca-15c88fb344c1",
   "metadata": {},
   "outputs": [
    {
     "data": {
      "text/plain": [
       "<function max>"
      ]
     },
     "execution_count": 26,
     "metadata": {},
     "output_type": "execute_result"
    }
   ],
   "source": [
    "max"
   ]
  },
  {
   "cell_type": "markdown",
   "id": "084d4afc-7d00-444c-a275-33c901070e79",
   "metadata": {},
   "source": [
    "# Context managers"
   ]
  },
  {
   "cell_type": "code",
   "execution_count": 47,
   "id": "72c78c26-5f49-4e34-86b4-c795eb8fa9a1",
   "metadata": {},
   "outputs": [],
   "source": [
    "class Personne:\n",
    "    def __init__(self, nom_attribut, age):\n",
    "        self.nom = nom_attribut\n",
    "        self.age = age\n",
    "\n",
    "    def presente(self):\n",
    "        print(f\"Mon nom est {self.nom}\")\n",
    "\n",
    "    def __enter__(self):\n",
    "        print(\"dans enter\")\n",
    "        return \"un truc\" \n",
    "\n",
    "    def __exit__(self, exception_type, exception_instance, traceback):\n",
    "        print(args)\n",
    "        print(\"dans exit\", args) "
   ]
  },
  {
   "cell_type": "code",
   "execution_count": 48,
   "id": "2db9e85e-03df-4088-9809-5e651c4aa906",
   "metadata": {},
   "outputs": [
    {
     "name": "stdout",
     "output_type": "stream",
     "text": [
      "dans enter\n",
      "coucou\n",
      "(<class 'ZeroDivisionError'>, ZeroDivisionError('division by zero'), <traceback object at 0x10afd6180>)\n",
      "dans exit (<class 'ZeroDivisionError'>, ZeroDivisionError('division by zero'), <traceback object at 0x10afd6180>)\n"
     ]
    },
    {
     "ename": "ZeroDivisionError",
     "evalue": "division by zero",
     "output_type": "error",
     "traceback": [
      "\u001b[0;31m---------------------------------------------------------------------------\u001b[0m",
      "\u001b[0;31mZeroDivisionError\u001b[0m                         Traceback (most recent call last)",
      "Cell \u001b[0;32mIn[48], line 4\u001b[0m\n\u001b[1;32m      2\u001b[0m \u001b[38;5;28;01mwith\u001b[39;00m matthieu:\n\u001b[1;32m      3\u001b[0m     \u001b[38;5;28mprint\u001b[39m(\u001b[38;5;124m\"\u001b[39m\u001b[38;5;124mcoucou\u001b[39m\u001b[38;5;124m\"\u001b[39m)\n\u001b[0;32m----> 4\u001b[0m     \u001b[38;5;241;43m1\u001b[39;49m\u001b[38;5;241;43m/\u001b[39;49m\u001b[38;5;241;43m0\u001b[39;49m\n",
      "\u001b[0;31mZeroDivisionError\u001b[0m: division by zero"
     ]
    }
   ],
   "source": [
    "matthieu = Personne(\"matthieu\", 33)\n",
    "with matthieu:\n",
    "    print(\"coucou\")\n",
    "    1/0"
   ]
  },
  {
   "cell_type": "markdown",
   "id": "1699fb55-2495-4a53-8f45-76dd03f66cc9",
   "metadata": {},
   "source": [
    "matthieu.presente() <=> type(matthieu) => Personne => (methode de classe) Personne.presente(type(matthieu))"
   ]
  },
  {
   "cell_type": "code",
   "execution_count": 40,
   "id": "f535b09c-9ba8-4975-a0ea-f3ce76b94c6a",
   "metadata": {},
   "outputs": [
    {
     "data": {
      "text/plain": [
       "True"
      ]
     },
     "execution_count": 40,
     "metadata": {},
     "output_type": "execute_result"
    }
   ],
   "source": [
    "hasattr(matthieu, \"__enter__\") and hasattr(matthieu, \"__exit__\")"
   ]
  },
  {
   "cell_type": "code",
   "execution_count": 52,
   "id": "ad0a692a-996f-49bb-8507-c03b9fbb07ac",
   "metadata": {},
   "outputs": [
    {
     "name": "stdout",
     "output_type": "stream",
     "text": [
      "timer.start=1705582050.85328\n",
      "2.0037198066711426\n"
     ]
    }
   ],
   "source": [
    "import time \n",
    "\n",
    "class Timer():\n",
    "    def __init__(self):\n",
    "        self.start = None \n",
    "        self.stop = None \n",
    "\n",
    "    def __enter__(self):\n",
    "        self.start = time.time()\n",
    "        return self\n",
    "\n",
    "    def __exit__(self, *args):\n",
    "        self.stop = time.time()\n",
    "        print(self.stop - self.start)\n",
    "\n",
    "with Timer() as timer:\n",
    "    print(f\"{timer.start=}\")\n",
    "    time.sleep(2)"
   ]
  },
  {
   "cell_type": "code",
   "execution_count": 57,
   "id": "a149f851-5fd4-44ec-a6a2-98803e051942",
   "metadata": {},
   "outputs": [
    {
     "name": "stdout",
     "output_type": "stream",
     "text": [
      "Harry Potter 1\n",
      "Harry Potter 2\n"
     ]
    }
   ],
   "source": [
    "class Bibliotheques:\n",
    "    def __init__(self, livres: list[str]):\n",
    "        self.livres = livres\n",
    "\n",
    "    def __iter__(self):\n",
    "        # différence entre itérable / générateurs et itérateurs\n",
    "        # https://stackoverflow.com/questions/2776829/difference-between-pythons-generators-and-iterators\n",
    "        return iter(self.livres)\n",
    "\n",
    "b = Bibliotheques([\"Harry Potter 1\", \"Harry Potter 2\"])\n",
    "for livre in b: \n",
    "    print(livre)"
   ]
  },
  {
   "cell_type": "code",
   "execution_count": 60,
   "id": "b2bcd460-6db4-4af2-a956-4a4b11c70015",
   "metadata": {},
   "outputs": [
    {
     "name": "stdout",
     "output_type": "stream",
     "text": [
      "1\n",
      "4\n",
      "9\n",
      "16\n",
      "25\n",
      "36\n",
      "49\n",
      "64\n",
      "81\n",
      "100\n",
      "121\n",
      "144\n",
      "169\n",
      "196\n",
      "225\n",
      "256\n",
      "289\n",
      "324\n",
      "361\n",
      "400\n",
      "441\n",
      "484\n",
      "529\n",
      "576\n",
      "625\n",
      "676\n",
      "729\n",
      "784\n",
      "841\n",
      "900\n",
      "961\n",
      "1024\n",
      "1089\n",
      "1156\n",
      "1225\n",
      "1296\n",
      "1369\n",
      "1444\n",
      "1521\n",
      "1600\n",
      "1681\n",
      "1764\n",
      "1849\n",
      "1936\n",
      "2025\n",
      "2116\n",
      "2209\n",
      "2304\n",
      "2401\n",
      "2500\n",
      "2601\n",
      "2704\n",
      "2809\n",
      "2916\n",
      "3025\n",
      "3136\n",
      "3249\n",
      "3364\n",
      "3481\n",
      "3600\n",
      "3721\n",
      "3844\n",
      "3969\n",
      "4096\n",
      "4225\n",
      "4356\n",
      "4489\n",
      "4624\n",
      "4761\n",
      "4900\n",
      "5041\n",
      "5184\n",
      "5329\n",
      "5476\n",
      "5625\n",
      "5776\n",
      "5929\n",
      "6084\n",
      "6241\n",
      "6400\n",
      "6561\n",
      "6724\n",
      "6889\n",
      "7056\n",
      "7225\n",
      "7396\n",
      "7569\n",
      "7744\n",
      "7921\n",
      "8100\n",
      "8281\n",
      "8464\n",
      "8649\n",
      "8836\n",
      "9025\n",
      "9216\n",
      "9409\n",
      "9604\n",
      "9801\n"
     ]
    }
   ],
   "source": [
    "def squares(start, stop):\n",
    "    for i in range(start, stop):\n",
    "        yield i * i\n",
    "\n",
    "squares(1, 10000000)"
   ]
  },
  {
   "cell_type": "code",
   "execution_count": 70,
   "id": "f3f196e1-1be5-4d48-865d-847ef5dca07e",
   "metadata": {},
   "outputs": [
    {
     "name": "stdout",
     "output_type": "stream",
     "text": [
      "['import typing']\n",
      "['import typing', '']\n",
      "['import typing', '', '# on est obligé de définir des types génériques']\n",
      "['import typing', '', '# on est obligé de définir des types génériques', 'type1 = typing.TypeVar(\"type1\")']\n",
      "['import typing', '', '# on est obligé de définir des types génériques', 'type1 = typing.TypeVar(\"type1\")', 'type2 = typing.TypeVar(\"type2\")']\n",
      "['', '# on est obligé de définir des types génériques', 'type1 = typing.TypeVar(\"type1\")', 'type2 = typing.TypeVar(\"type2\")', '']\n",
      "['# on est obligé de définir des types génériques', 'type1 = typing.TypeVar(\"type1\")', 'type2 = typing.TypeVar(\"type2\")', '', '']\n",
      "['type1 = typing.TypeVar(\"type1\")', 'type2 = typing.TypeVar(\"type2\")', '', '', 'def my_map(func: typing.Callable[[type1], type2], elements: list[type1]) -> list[type2]:']\n",
      "['type2 = typing.TypeVar(\"type2\")', '', '', 'def my_map(func: typing.Callable[[type1], type2], elements: list[type1]) -> list[type2]:', '    \"\"\"reimplémentation de map']\n",
      "['', '', 'def my_map(func: typing.Callable[[type1], type2], elements: list[type1]) -> list[type2]:', '    \"\"\"reimplémentation de map', '']\n",
      "['', 'def my_map(func: typing.Callable[[type1], type2], elements: list[type1]) -> list[type2]:', '    \"\"\"reimplémentation de map', '', '    Args:']\n",
      "['def my_map(func: typing.Callable[[type1], type2], elements: list[type1]) -> list[type2]:', '    \"\"\"reimplémentation de map', '', '    Args:', '        func (typing.Callable[[type1], type2]): la fonction a appliquer']\n",
      "['    \"\"\"reimplémentation de map', '', '    Args:', '        func (typing.Callable[[type1], type2]): la fonction a appliquer', \"        elements (list[type1]): la liste d'éléments sur laquelle appliquer la fonction\"]\n",
      "['', '    Args:', '        func (typing.Callable[[type1], type2]): la fonction a appliquer', \"        elements (list[type1]): la liste d'éléments sur laquelle appliquer la fonction\", '']\n",
      "['    Args:', '        func (typing.Callable[[type1], type2]): la fonction a appliquer', \"        elements (list[type1]): la liste d'éléments sur laquelle appliquer la fonction\", '', '    Returns:']\n",
      "['        func (typing.Callable[[type1], type2]): la fonction a appliquer', \"        elements (list[type1]): la liste d'éléments sur laquelle appliquer la fonction\", '', '    Returns:', '        list[type2]: la liste où on a appliqué la fonction sur chaque élément']\n",
      "[\"        elements (list[type1]): la liste d'éléments sur laquelle appliquer la fonction\", '', '    Returns:', '        list[type2]: la liste où on a appliqué la fonction sur chaque élément', '    \"\"\"']\n",
      "['', '    Returns:', '        list[type2]: la liste où on a appliqué la fonction sur chaque élément', '    \"\"\"', '    res = []']\n",
      "['    Returns:', '        list[type2]: la liste où on a appliqué la fonction sur chaque élément', '    \"\"\"', '    res = []', '    for element in elements:']\n",
      "['        list[type2]: la liste où on a appliqué la fonction sur chaque élément', '    \"\"\"', '    res = []', '    for element in elements:', '        tmp = func(element)']\n",
      "['    \"\"\"', '    res = []', '    for element in elements:', '        tmp = func(element)', '        res.append(tmp)']\n",
      "['    res = []', '    for element in elements:', '        tmp = func(element)', '        res.append(tmp)', '    return res']\n",
      "['    for element in elements:', '        tmp = func(element)', '        res.append(tmp)', '    return res', '']\n",
      "['        tmp = func(element)', '        res.append(tmp)', '    return res', '', '']\n",
      "['        res.append(tmp)', '    return res', '', '', 'def my_filter(']\n",
      "['    return res', '', '', 'def my_filter(', '    func: typing.Callable[[type1], bool], elements: list[type1]']\n",
      "['', '', 'def my_filter(', '    func: typing.Callable[[type1], bool], elements: list[type1]', ') -> list[type1]:']\n",
      "['', 'def my_filter(', '    func: typing.Callable[[type1], bool], elements: list[type1]', ') -> list[type1]:', '    \"\"\"reimplémentation de filter']\n",
      "['def my_filter(', '    func: typing.Callable[[type1], bool], elements: list[type1]', ') -> list[type1]:', '    \"\"\"reimplémentation de filter', '']\n",
      "['    func: typing.Callable[[type1], bool], elements: list[type1]', ') -> list[type1]:', '    \"\"\"reimplémentation de filter', '', '    Args:']\n",
      "[') -> list[type1]:', '    \"\"\"reimplémentation de filter', '', '    Args:', '        func (typing.Callable[[type1], bool]): la fonction de test']\n",
      "['    \"\"\"reimplémentation de filter', '', '    Args:', '        func (typing.Callable[[type1], bool]): la fonction de test', \"        elements (list[type1]): la liste d'éléments que l'on veut filter\"]\n",
      "['', '    Args:', '        func (typing.Callable[[type1], bool]): la fonction de test', \"        elements (list[type1]): la liste d'éléments que l'on veut filter\", '']\n",
      "['    Args:', '        func (typing.Callable[[type1], bool]): la fonction de test', \"        elements (list[type1]): la liste d'éléments que l'on veut filter\", '', '    Returns:']\n",
      "['        func (typing.Callable[[type1], bool]): la fonction de test', \"        elements (list[type1]): la liste d'éléments que l'on veut filter\", '', '    Returns:', '        list[type2]: la liste où on uniquement les élements qui retournent vrai pour la fonction de test']\n",
      "[\"        elements (list[type1]): la liste d'éléments que l'on veut filter\", '', '    Returns:', '        list[type2]: la liste où on uniquement les élements qui retournent vrai pour la fonction de test', '    \"\"\"']\n",
      "['', '    Returns:', '        list[type2]: la liste où on uniquement les élements qui retournent vrai pour la fonction de test', '    \"\"\"', '    res = []']\n",
      "['    Returns:', '        list[type2]: la liste où on uniquement les élements qui retournent vrai pour la fonction de test', '    \"\"\"', '    res = []', '    for element in elements:']\n",
      "['        list[type2]: la liste où on uniquement les élements qui retournent vrai pour la fonction de test', '    \"\"\"', '    res = []', '    for element in elements:', '        if func(element):']\n",
      "['    \"\"\"', '    res = []', '    for element in elements:', '        if func(element):', '            res.append(element)']\n",
      "['    res = []', '    for element in elements:', '        if func(element):', '            res.append(element)', '    return res']\n",
      "['    for element in elements:', '        if func(element):', '            res.append(element)', '    return res', '']\n",
      "['        if func(element):', '            res.append(element)', '    return res', '', '']\n",
      "['            res.append(element)', '    return res', '', '', 'def f(x: int) -> str:']\n",
      "['    return res', '', '', 'def f(x: int) -> str:', '    return str(x)']\n",
      "['', '', 'def f(x: int) -> str:', '    return str(x)', '']\n",
      "['', 'def f(x: int) -> str:', '    return str(x)', '', '']\n",
      "['def f(x: int) -> str:', '    return str(x)', '', '', 'def f2(x: str) -> int:']\n",
      "['    return str(x)', '', '', 'def f2(x: str) -> int:', '    return int(x)']\n",
      "['', '', 'def f2(x: str) -> int:', '    return int(x)', '']\n",
      "['', 'def f2(x: str) -> int:', '    return int(x)', '', '']\n",
      "['def f2(x: str) -> int:', '    return int(x)', '', '', 'def f3(x: int) -> int:']\n",
      "['    return int(x)', '', '', 'def f3(x: int) -> int:', '    return x']\n",
      "['', '', 'def f3(x: int) -> int:', '    return x', '']\n",
      "['', 'def f3(x: int) -> int:', '    return x', '', '']\n",
      "['def f3(x: int) -> int:', '    return x', '', '', 'a = my_map(f, [1, 2, 3])']\n",
      "['    return x', '', '', 'a = my_map(f, [1, 2, 3])', 'b = my_map(f3, [1, 2])']\n"
     ]
    }
   ],
   "source": [
    "lines = []\n",
    "with open(\"my_map.py\") as f:\n",
    "    for line in f:\n",
    "        line = line.rstrip()\n",
    "        lines.append(line)\n",
    "        if len(lines) > 5:\n",
    "            lines.pop(0)\n",
    "            # lines = lines[1:6]\n",
    "        print(lines)"
   ]
  },
  {
   "cell_type": "code",
   "execution_count": 77,
   "id": "5e560d11-3b21-4163-b5ba-8ca296b965b0",
   "metadata": {},
   "outputs": [
    {
     "data": {
      "text/plain": [
       "deque(['p = pathlib.Path(\".\")\\n',\n",
       "       'p2 = p / \"..\"\\n',\n",
       "       'print(p2.resolve().absolute())\\n',\n",
       "       'print([f for f in p2.glob(\"**/*\") if f.is_file()])\\n'],\n",
       "      maxlen=4)"
      ]
     },
     "execution_count": 77,
     "metadata": {},
     "output_type": "execute_result"
    }
   ],
   "source": [
    "from collections import deque\n",
    "import pathlib\n",
    "\n",
    "def tail(filename, n=10):\n",
    "    'Return the last n lines of a file'\n",
    "    with open(filename) as f:\n",
    "        return deque(f, n)\n",
    "\n",
    "p = pathlib.Path(\".\") \n",
    "path = p / \"example_path.py\"\n",
    "tail(path, 4)"
   ]
  },
  {
   "cell_type": "code",
   "execution_count": 78,
   "id": "9e9e9e6d-6543-4012-a2c3-2f66d406722f",
   "metadata": {},
   "outputs": [
    {
     "data": {
      "text/plain": [
       "PosixPath('example_path.py')"
      ]
     },
     "execution_count": 78,
     "metadata": {},
     "output_type": "execute_result"
    }
   ],
   "source": [
    "pathlib.Path.__truediv__(p, \"example_path.py\")"
   ]
  },
  {
   "cell_type": "code",
   "execution_count": 95,
   "id": "5b157d8a-fd2d-4a08-ba1a-63594c7c9753",
   "metadata": {},
   "outputs": [],
   "source": [
    "class Convertisseur:\n",
    "    def __init__(self, temperature_celcius):\n",
    "        self.celcius = temperature_celcius\n",
    "\n",
    "    @property\n",
    "    def kelvin(self):\n",
    "        print(\"dans get kelvin\")\n",
    "        return self.celcius + 273\n"
   ]
  },
  {
   "cell_type": "code",
   "execution_count": 96,
   "id": "1776f3cf-df4c-4c6a-85e7-8b27cb3d4d03",
   "metadata": {},
   "outputs": [
    {
     "name": "stdout",
     "output_type": "stream",
     "text": [
      "dans get kelvin\n",
      "283 10\n"
     ]
    }
   ],
   "source": [
    "c = Convertisseur(10)\n",
    "print(c.kelvin, c.celcius)"
   ]
  },
  {
   "cell_type": "code",
   "execution_count": 88,
   "id": "c2d15c80-a73c-4967-9c67-227eeb9635dd",
   "metadata": {},
   "outputs": [],
   "source": [
    "c.celcius = 30"
   ]
  },
  {
   "cell_type": "code",
   "execution_count": 90,
   "id": "e3450ae8-402e-4837-9df3-d06de60d33f2",
   "metadata": {},
   "outputs": [
    {
     "ename": "AttributeError",
     "evalue": "'Convertisseur' object has no attribute 'set_kelvin'",
     "output_type": "error",
     "traceback": [
      "\u001b[0;31m---------------------------------------------------------------------------\u001b[0m",
      "\u001b[0;31mAttributeError\u001b[0m                            Traceback (most recent call last)",
      "Cell \u001b[0;32mIn[90], line 1\u001b[0m\n\u001b[0;32m----> 1\u001b[0m \u001b[43mc\u001b[49m\u001b[38;5;241;43m.\u001b[39;49m\u001b[43mset_kelvin\u001b[49m(\u001b[38;5;241m40\u001b[39m)\n",
      "\u001b[0;31mAttributeError\u001b[0m: 'Convertisseur' object has no attribute 'set_kelvin'"
     ]
    }
   ],
   "source": [
    "c.set_kelvin(40)"
   ]
  },
  {
   "cell_type": "code",
   "execution_count": null,
   "id": "e8edc933-9597-429a-998e-beee862e17ec",
   "metadata": {},
   "outputs": [],
   "source": []
  }
 ],
 "metadata": {
  "kernelspec": {
   "display_name": "Python 3 (ipykernel)",
   "language": "python",
   "name": "python3"
  },
  "language_info": {
   "codemirror_mode": {
    "name": "ipython",
    "version": 3
   },
   "file_extension": ".py",
   "mimetype": "text/x-python",
   "name": "python",
   "nbconvert_exporter": "python",
   "pygments_lexer": "ipython3",
   "version": "3.12.0"
  }
 },
 "nbformat": 4,
 "nbformat_minor": 5
}
