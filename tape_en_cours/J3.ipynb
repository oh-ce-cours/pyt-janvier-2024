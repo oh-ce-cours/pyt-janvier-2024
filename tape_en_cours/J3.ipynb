{
 "cells": [
  {
   "cell_type": "markdown",
   "id": "4107557e-c223-4940-ac70-5e5357cfbeee",
   "metadata": {},
   "source": [
    "# Rappel du jour précédent \n",
    "\n",
    "* true / false values\n",
    "* en python quand on convertit les types (par exemple en `bool`) ce n'est pas la fonction de conversion qui va avoir la logique de conversion\n",
    "    * la fonction de conversion va déléguer à la méthode magique du type en cours\n",
    "    * par exemple: `bool(liste)` ==> `liste.__bool__()` (il faut que mon type implémente la bonne méthode magique)\n",
    "* différence entre `==` et `is`\n",
    "    * `==` compare les valeurs\n",
    "    * `is` compare les zones mémoires (pointeurs), à peu près équivalent à `id(a) == id(b)``\n",
    "* `None` : allocation vide (équivalent de `null` en java)\n",
    "* pas de valeurs par défaut mutables dans les fonctions \n",
    "* programmation fonctionnelle\n",
    "    * les fonctions sont des variables comme les autres\n",
    "    * on va avoir des \"fonctions d'ordre supérieur\" (higher order functions) qui vont prendre en paramètre ou retourner des fonctions\n",
    "    * recoder `map` et `filter`\n",
    "    * les décorateurs\n",
    "        * permettre de modifier le comportement d'une fonction sans y toucher en appelant du code avant ou après son exécution\n",
    "        * sont utilisés pour séparer le code métier (dans la fonction) du code \"d'organisation\" (dans le décorateur)\n",
    "    "
   ]
  },
  {
   "cell_type": "code",
   "execution_count": 6,
   "id": "75d16a99-8c58-48a1-bac3-e4e88bc57c4d",
   "metadata": {},
   "outputs": [
    {
     "data": {
      "text/plain": [
       "66"
      ]
     },
     "execution_count": 6,
     "metadata": {},
     "output_type": "execute_result"
    }
   ],
   "source": [
    "int(\"42\", base=16)"
   ]
  },
  {
   "cell_type": "code",
   "execution_count": 2,
   "id": "3a720699-d287-44bd-9b15-9f0ef80ca17b",
   "metadata": {},
   "outputs": [
    {
     "data": {
      "text/plain": [
       "\u001b[0;31mInit signature:\u001b[0m \u001b[0mint\u001b[0m\u001b[0;34m(\u001b[0m\u001b[0mself\u001b[0m\u001b[0;34m,\u001b[0m \u001b[0;34m/\u001b[0m\u001b[0;34m,\u001b[0m \u001b[0;34m*\u001b[0m\u001b[0margs\u001b[0m\u001b[0;34m,\u001b[0m \u001b[0;34m**\u001b[0m\u001b[0mkwargs\u001b[0m\u001b[0;34m)\u001b[0m\u001b[0;34m\u001b[0m\u001b[0;34m\u001b[0m\u001b[0m\n",
       "\u001b[0;31mDocstring:\u001b[0m     \n",
       "int([x]) -> integer\n",
       "int(x, base=10) -> integer\n",
       "\n",
       "Convert a number or string to an integer, or return 0 if no arguments\n",
       "are given.  If x is a number, return x.__int__().  For floating point\n",
       "numbers, this truncates towards zero.\n",
       "\n",
       "If x is not a number or if base is given, then x must be a string,\n",
       "bytes, or bytearray instance representing an integer literal in the\n",
       "given base.  The literal can be preceded by '+' or '-' and be surrounded\n",
       "by whitespace.  The base defaults to 10.  Valid bases are 0 and 2-36.\n",
       "Base 0 means to interpret the base from the string as an integer literal.\n",
       ">>> int('0b100', base=0)\n",
       "4\n",
       "\u001b[0;31mType:\u001b[0m           type\n",
       "\u001b[0;31mSubclasses:\u001b[0m     bool, IntEnum, IntFlag, _NamedIntConstant"
      ]
     },
     "metadata": {},
     "output_type": "display_data"
    }
   ],
   "source": [
    "int?"
   ]
  },
  {
   "cell_type": "code",
   "execution_count": 7,
   "id": "5f0e4788-3efc-486c-a745-83e9d88a1d29",
   "metadata": {},
   "outputs": [],
   "source": [
    "base_two = lambda number: int(number, base=2)"
   ]
  },
  {
   "cell_type": "code",
   "execution_count": 8,
   "id": "057d7b4f-4973-4d9b-8264-e724b4755740",
   "metadata": {},
   "outputs": [
    {
     "data": {
      "text/plain": [
       "15"
      ]
     },
     "execution_count": 8,
     "metadata": {},
     "output_type": "execute_result"
    }
   ],
   "source": [
    "base_two(\"1111\")"
   ]
  },
  {
   "cell_type": "markdown",
   "id": "795b9d49-c7fe-4103-8157-d74e4ef0119d",
   "metadata": {},
   "source": [
    "```python \n",
    "@njit\n",
    "def monte_carlo_pi(nsamples):\n",
    "    acc = 0\n",
    "    for i in range(nsamples):\n",
    "        x = random.random()\n",
    "        y = random.random()\n",
    "        if (x ** 2 + y ** 2) < 1.0:\n",
    "            acc += 1\n",
    "    return 4.0 * acc / nsamples\n",
    "```\n",
    "\n",
    "```python\n",
    "def monte_carlo_pi(nsamples):\n",
    "    acc = 0\n",
    "    for i in range(nsamples):\n",
    "        x = random.random()\n",
    "        y = random.random()\n",
    "        if (x ** 2 + y ** 2) < 1.0:\n",
    "            acc += 1\n",
    "    return 4.0 * acc / nsamples\n",
    "\n",
    "# on ne masque plus la fonction d'origine avec la fonction décorée\n",
    "monte_carlo_pi_jitted = njit(monte_carlo_pi)    \n",
    "\n",
    "```"
   ]
  },
  {
   "cell_type": "code",
   "execution_count": 9,
   "id": "81d2bc6e-9976-4ec8-88dc-ff8cb618c2c8",
   "metadata": {},
   "outputs": [
    {
     "name": "stdout",
     "output_type": "stream",
     "text": [
      "vide\n",
      "vide\n"
     ]
    }
   ],
   "source": [
    "ma_liste = []\n",
    "\n",
    "# pas pythonique\n",
    "if len(ma_liste) > 0:\n",
    "    print(\"pas vide\")\n",
    "else:\n",
    "    print(\"vide\")\n",
    "\n",
    "# pythonique \n",
    "if ma_liste:  # if bool(ma_liste):  # ma_liste.__bool__()  \n",
    "    print(\"pas vide\")\n",
    "else: \n",
    "    print(\"vide\")"
   ]
  },
  {
   "cell_type": "code",
   "execution_count": 10,
   "id": "91054436-ffac-466d-9db2-f9c046a27257",
   "metadata": {},
   "outputs": [
    {
     "data": {
      "text/plain": [
       "False"
      ]
     },
     "execution_count": 10,
     "metadata": {},
     "output_type": "execute_result"
    }
   ],
   "source": [
    "bool(ma_liste)"
   ]
  },
  {
   "cell_type": "code",
   "execution_count": 11,
   "id": "72ed62fd-9eaa-439e-a205-cfc45471ffd0",
   "metadata": {},
   "outputs": [
    {
     "data": {
      "text/plain": [
       "\u001b[0;31mInit signature:\u001b[0m \u001b[0mbool\u001b[0m\u001b[0;34m(\u001b[0m\u001b[0mself\u001b[0m\u001b[0;34m,\u001b[0m \u001b[0;34m/\u001b[0m\u001b[0;34m,\u001b[0m \u001b[0;34m*\u001b[0m\u001b[0margs\u001b[0m\u001b[0;34m,\u001b[0m \u001b[0;34m**\u001b[0m\u001b[0mkwargs\u001b[0m\u001b[0;34m)\u001b[0m\u001b[0;34m\u001b[0m\u001b[0;34m\u001b[0m\u001b[0m\n",
       "\u001b[0;31mDocstring:\u001b[0m     \n",
       "bool(x) -> bool\n",
       "\n",
       "Returns True when the argument x is true, False otherwise.\n",
       "The builtins True and False are the only two instances of the class bool.\n",
       "The class bool is a subclass of the class int, and cannot be subclassed.\n",
       "\u001b[0;31mType:\u001b[0m           type\n",
       "\u001b[0;31mSubclasses:\u001b[0m     "
      ]
     },
     "metadata": {},
     "output_type": "display_data"
    }
   ],
   "source": [
    "bool?"
   ]
  },
  {
   "cell_type": "markdown",
   "id": "c641d692-1f63-4041-8869-127a454ba628",
   "metadata": {},
   "source": [
    "# Décorateurs"
   ]
  },
  {
   "cell_type": "code",
   "execution_count": 14,
   "id": "c915d806-72a9-452d-9eda-ce5329ea4a0b",
   "metadata": {},
   "outputs": [],
   "source": [
    "import time \n",
    "import statistics\n",
    "\n",
    "def timer(f):\n",
    "    def wrapper():\n",
    "        times = []\n",
    "        for _ in range(2):\n",
    "            tic = time.time()\n",
    "            res = f()\n",
    "            tac = time.time()\n",
    "            times.append(tac-tic)\n",
    "        print(statistics.mean(times), statistics.stdev(times))\n",
    "        return res \n",
    "    return wrapper \n",
    "\n",
    "\n",
    "@timer\n",
    "def f():\n",
    "    \"\"\"Ma fonction f\"\"\"\n",
    "    time.sleep(1)\n",
    "    return 2\n",
    "\n",
    "@timer\n",
    "def f2(a):\n",
    "    time.sleep(a)\n",
    "    return a\n",
    "\n"
   ]
  },
  {
   "cell_type": "code",
   "execution_count": 15,
   "id": "93034b68-4b3a-4fe7-bf02-4a455be01354",
   "metadata": {},
   "outputs": [
    {
     "name": "stdout",
     "output_type": "stream",
     "text": [
      "1.0041192770004272 0.001271991888058782\n"
     ]
    },
    {
     "data": {
      "text/plain": [
       "2"
      ]
     },
     "execution_count": 15,
     "metadata": {},
     "output_type": "execute_result"
    }
   ],
   "source": [
    "f()"
   ]
  },
  {
   "cell_type": "code",
   "execution_count": 17,
   "id": "b3732f3b-c7d2-48b5-b8fb-3d7edd1f3d77",
   "metadata": {},
   "outputs": [
    {
     "ename": "TypeError",
     "evalue": "timer.<locals>.wrapper() takes 0 positional arguments but 1 was given",
     "output_type": "error",
     "traceback": [
      "\u001b[0;31m---------------------------------------------------------------------------\u001b[0m",
      "\u001b[0;31mTypeError\u001b[0m                                 Traceback (most recent call last)",
      "Cell \u001b[0;32mIn[17], line 1\u001b[0m\n\u001b[0;32m----> 1\u001b[0m \u001b[43mf2\u001b[49m\u001b[43m(\u001b[49m\u001b[38;5;241;43m0.1\u001b[39;49m\u001b[43m)\u001b[49m\n",
      "\u001b[0;31mTypeError\u001b[0m: timer.<locals>.wrapper() takes 0 positional arguments but 1 was given"
     ]
    }
   ],
   "source": [
    "f2(0.1)"
   ]
  },
  {
   "cell_type": "code",
   "execution_count": null,
   "id": "0b5c71ca-f2e8-489a-92a8-6d83d6acd9be",
   "metadata": {},
   "outputs": [],
   "source": []
  }
 ],
 "metadata": {
  "kernelspec": {
   "display_name": "Python 3 (ipykernel)",
   "language": "python",
   "name": "python3"
  },
  "language_info": {
   "codemirror_mode": {
    "name": "ipython",
    "version": 3
   },
   "file_extension": ".py",
   "mimetype": "text/x-python",
   "name": "python",
   "nbconvert_exporter": "python",
   "pygments_lexer": "ipython3",
   "version": "3.12.0"
  }
 },
 "nbformat": 4,
 "nbformat_minor": 5
}
