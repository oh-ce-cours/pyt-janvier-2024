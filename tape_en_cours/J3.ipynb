{
 "cells": [
  {
   "cell_type": "markdown",
   "id": "4107557e-c223-4940-ac70-5e5357cfbeee",
   "metadata": {},
   "source": [
    "# Rappel du jour précédent \n",
    "\n",
    "* programmation fonctionnelle\n",
    "    * les fonctions sont des variables comme les autres\n",
    "    * on va avoir des \"fonctions d'ordre supérieur\" (higher order functions) qui vont prendre en paramètre ou retourner des fonctions\n",
    "    * les décorateurs\n",
    "        * permettre de modifier le comportement d'une fonction sans y toucher en appelant du code avant ou après son exécution\n",
    "        * "
   ]
  },
  {
   "cell_type": "code",
   "execution_count": 6,
   "id": "75d16a99-8c58-48a1-bac3-e4e88bc57c4d",
   "metadata": {},
   "outputs": [
    {
     "data": {
      "text/plain": [
       "66"
      ]
     },
     "execution_count": 6,
     "metadata": {},
     "output_type": "execute_result"
    }
   ],
   "source": [
    "int(\"42\", base=16)"
   ]
  },
  {
   "cell_type": "code",
   "execution_count": 2,
   "id": "3a720699-d287-44bd-9b15-9f0ef80ca17b",
   "metadata": {},
   "outputs": [
    {
     "data": {
      "text/plain": [
       "\u001b[0;31mInit signature:\u001b[0m \u001b[0mint\u001b[0m\u001b[0;34m(\u001b[0m\u001b[0mself\u001b[0m\u001b[0;34m,\u001b[0m \u001b[0;34m/\u001b[0m\u001b[0;34m,\u001b[0m \u001b[0;34m*\u001b[0m\u001b[0margs\u001b[0m\u001b[0;34m,\u001b[0m \u001b[0;34m**\u001b[0m\u001b[0mkwargs\u001b[0m\u001b[0;34m)\u001b[0m\u001b[0;34m\u001b[0m\u001b[0;34m\u001b[0m\u001b[0m\n",
       "\u001b[0;31mDocstring:\u001b[0m     \n",
       "int([x]) -> integer\n",
       "int(x, base=10) -> integer\n",
       "\n",
       "Convert a number or string to an integer, or return 0 if no arguments\n",
       "are given.  If x is a number, return x.__int__().  For floating point\n",
       "numbers, this truncates towards zero.\n",
       "\n",
       "If x is not a number or if base is given, then x must be a string,\n",
       "bytes, or bytearray instance representing an integer literal in the\n",
       "given base.  The literal can be preceded by '+' or '-' and be surrounded\n",
       "by whitespace.  The base defaults to 10.  Valid bases are 0 and 2-36.\n",
       "Base 0 means to interpret the base from the string as an integer literal.\n",
       ">>> int('0b100', base=0)\n",
       "4\n",
       "\u001b[0;31mType:\u001b[0m           type\n",
       "\u001b[0;31mSubclasses:\u001b[0m     bool, IntEnum, IntFlag, _NamedIntConstant"
      ]
     },
     "metadata": {},
     "output_type": "display_data"
    }
   ],
   "source": [
    "int?"
   ]
  },
  {
   "cell_type": "code",
   "execution_count": 7,
   "id": "5f0e4788-3efc-486c-a745-83e9d88a1d29",
   "metadata": {},
   "outputs": [],
   "source": [
    "base_two = lambda number: int(number, base=2)"
   ]
  },
  {
   "cell_type": "code",
   "execution_count": 8,
   "id": "057d7b4f-4973-4d9b-8264-e724b4755740",
   "metadata": {},
   "outputs": [
    {
     "data": {
      "text/plain": [
       "15"
      ]
     },
     "execution_count": 8,
     "metadata": {},
     "output_type": "execute_result"
    }
   ],
   "source": [
    "base_two(\"1111\")"
   ]
  },
  {
   "cell_type": "markdown",
   "id": "795b9d49-c7fe-4103-8157-d74e4ef0119d",
   "metadata": {},
   "source": [
    "```python \n",
    "@njit\n",
    "def monte_carlo_pi(nsamples):\n",
    "    acc = 0\n",
    "    for i in range(nsamples):\n",
    "        x = random.random()\n",
    "        y = random.random()\n",
    "        if (x ** 2 + y ** 2) < 1.0:\n",
    "            acc += 1\n",
    "    return 4.0 * acc / nsamples\n",
    "```\n",
    "\n",
    "```python\n",
    "def monte_carlo_pi(nsamples):\n",
    "    acc = 0\n",
    "    for i in range(nsamples):\n",
    "        x = random.random()\n",
    "        y = random.random()\n",
    "        if (x ** 2 + y ** 2) < 1.0:\n",
    "            acc += 1\n",
    "    return 4.0 * acc / nsamples\n",
    "\n",
    "monte_carlo_pi_jitted = njit(monte_carlo_pi)\n",
    "\n",
    "if random() > 0.5:\n",
    "    \n",
    "\n",
    "```"
   ]
  }
 ],
 "metadata": {
  "kernelspec": {
   "display_name": "Python 3 (ipykernel)",
   "language": "python",
   "name": "python3"
  },
  "language_info": {
   "codemirror_mode": {
    "name": "ipython",
    "version": 3
   },
   "file_extension": ".py",
   "mimetype": "text/x-python",
   "name": "python",
   "nbconvert_exporter": "python",
   "pygments_lexer": "ipython3",
   "version": "3.12.0"
  }
 },
 "nbformat": 4,
 "nbformat_minor": 5
}
