{
 "cells": [
  {
   "cell_type": "markdown",
   "id": "4107557e-c223-4940-ac70-5e5357cfbeee",
   "metadata": {},
   "source": [
    "# Rappel du jour précédent \n",
    "\n",
    "* true / false values\n",
    "* en python quand on convertit les types (par exemple en `bool`) ce n'est pas la fonction de conversion qui va avoir la logique de conversion\n",
    "    * la fonction de conversion va déléguer à la méthode magique du type en cours\n",
    "    * par exemple: `bool(liste)` ==> `liste.__bool__()` (il faut que mon type implémente la bonne méthode magique)\n",
    "* `tuple unpacking` : `a, b = 1, 2`\n",
    "* match / case (depuis python 3.10)\n",
    "* différence entre `==` et `is`\n",
    "    * `==` compare les valeurs\n",
    "    * `is` compare les zones mémoires (pointeurs), à peu près équivalent à `id(a) == id(b)``\n",
    "* `None` : allocation vide (équivalent de `null` en java)\n",
    "* pas de valeurs par défaut mutables dans les fonctions \n",
    "* programmation fonctionnelle\n",
    "    * les fonctions sont des variables comme les autres\n",
    "    * on va avoir des \"fonctions d'ordre supérieur\" (higher order functions) qui vont prendre en paramètre ou retourner des fonctions\n",
    "    * recoder `map` et `filter`\n",
    "    * les décorateurs\n",
    "        * permettre de modifier le comportement d'une fonction sans y toucher en appelant du code avant ou après son exécution\n",
    "        * sont utilisés pour séparer le code métier (dans la fonction) du code \"d'organisation\" (dans le décorateur)\n",
    "    "
   ]
  },
  {
   "cell_type": "code",
   "execution_count": 6,
   "id": "75d16a99-8c58-48a1-bac3-e4e88bc57c4d",
   "metadata": {},
   "outputs": [
    {
     "data": {
      "text/plain": [
       "66"
      ]
     },
     "execution_count": 6,
     "metadata": {},
     "output_type": "execute_result"
    }
   ],
   "source": [
    "int(\"42\", base=16)"
   ]
  },
  {
   "cell_type": "code",
   "execution_count": 2,
   "id": "3a720699-d287-44bd-9b15-9f0ef80ca17b",
   "metadata": {},
   "outputs": [
    {
     "data": {
      "text/plain": [
       "\u001b[0;31mInit signature:\u001b[0m \u001b[0mint\u001b[0m\u001b[0;34m(\u001b[0m\u001b[0mself\u001b[0m\u001b[0;34m,\u001b[0m \u001b[0;34m/\u001b[0m\u001b[0;34m,\u001b[0m \u001b[0;34m*\u001b[0m\u001b[0margs\u001b[0m\u001b[0;34m,\u001b[0m \u001b[0;34m**\u001b[0m\u001b[0mkwargs\u001b[0m\u001b[0;34m)\u001b[0m\u001b[0;34m\u001b[0m\u001b[0;34m\u001b[0m\u001b[0m\n",
       "\u001b[0;31mDocstring:\u001b[0m     \n",
       "int([x]) -> integer\n",
       "int(x, base=10) -> integer\n",
       "\n",
       "Convert a number or string to an integer, or return 0 if no arguments\n",
       "are given.  If x is a number, return x.__int__().  For floating point\n",
       "numbers, this truncates towards zero.\n",
       "\n",
       "If x is not a number or if base is given, then x must be a string,\n",
       "bytes, or bytearray instance representing an integer literal in the\n",
       "given base.  The literal can be preceded by '+' or '-' and be surrounded\n",
       "by whitespace.  The base defaults to 10.  Valid bases are 0 and 2-36.\n",
       "Base 0 means to interpret the base from the string as an integer literal.\n",
       ">>> int('0b100', base=0)\n",
       "4\n",
       "\u001b[0;31mType:\u001b[0m           type\n",
       "\u001b[0;31mSubclasses:\u001b[0m     bool, IntEnum, IntFlag, _NamedIntConstant"
      ]
     },
     "metadata": {},
     "output_type": "display_data"
    }
   ],
   "source": [
    "int?"
   ]
  },
  {
   "cell_type": "code",
   "execution_count": 7,
   "id": "5f0e4788-3efc-486c-a745-83e9d88a1d29",
   "metadata": {},
   "outputs": [],
   "source": [
    "base_two = lambda number: int(number, base=2)"
   ]
  },
  {
   "cell_type": "code",
   "execution_count": 8,
   "id": "057d7b4f-4973-4d9b-8264-e724b4755740",
   "metadata": {},
   "outputs": [
    {
     "data": {
      "text/plain": [
       "15"
      ]
     },
     "execution_count": 8,
     "metadata": {},
     "output_type": "execute_result"
    }
   ],
   "source": [
    "base_two(\"1111\")"
   ]
  },
  {
   "cell_type": "markdown",
   "id": "795b9d49-c7fe-4103-8157-d74e4ef0119d",
   "metadata": {},
   "source": [
    "```python \n",
    "@njit\n",
    "def monte_carlo_pi(nsamples):\n",
    "    acc = 0\n",
    "    for i in range(nsamples):\n",
    "        x = random.random()\n",
    "        y = random.random()\n",
    "        if (x ** 2 + y ** 2) < 1.0:\n",
    "            acc += 1\n",
    "    return 4.0 * acc / nsamples\n",
    "```\n",
    "\n",
    "```python\n",
    "def monte_carlo_pi(nsamples):\n",
    "    acc = 0\n",
    "    for i in range(nsamples):\n",
    "        x = random.random()\n",
    "        y = random.random()\n",
    "        if (x ** 2 + y ** 2) < 1.0:\n",
    "            acc += 1\n",
    "    return 4.0 * acc / nsamples\n",
    "\n",
    "# on ne masque plus la fonction d'origine avec la fonction décorée\n",
    "monte_carlo_pi_jitted = njit(monte_carlo_pi)    \n",
    "\n",
    "```"
   ]
  },
  {
   "cell_type": "code",
   "execution_count": 9,
   "id": "81d2bc6e-9976-4ec8-88dc-ff8cb618c2c8",
   "metadata": {},
   "outputs": [
    {
     "name": "stdout",
     "output_type": "stream",
     "text": [
      "vide\n",
      "vide\n"
     ]
    }
   ],
   "source": [
    "ma_liste = []\n",
    "\n",
    "# pas pythonique\n",
    "if len(ma_liste) > 0:\n",
    "    print(\"pas vide\")\n",
    "else:\n",
    "    print(\"vide\")\n",
    "\n",
    "# pythonique \n",
    "if ma_liste:  # if bool(ma_liste):  # ma_liste.__bool__()  \n",
    "    print(\"pas vide\")\n",
    "else: \n",
    "    print(\"vide\")"
   ]
  },
  {
   "cell_type": "code",
   "execution_count": 10,
   "id": "91054436-ffac-466d-9db2-f9c046a27257",
   "metadata": {},
   "outputs": [
    {
     "data": {
      "text/plain": [
       "False"
      ]
     },
     "execution_count": 10,
     "metadata": {},
     "output_type": "execute_result"
    }
   ],
   "source": [
    "bool(ma_liste)"
   ]
  },
  {
   "cell_type": "code",
   "execution_count": 11,
   "id": "72ed62fd-9eaa-439e-a205-cfc45471ffd0",
   "metadata": {},
   "outputs": [
    {
     "data": {
      "text/plain": [
       "\u001b[0;31mInit signature:\u001b[0m \u001b[0mbool\u001b[0m\u001b[0;34m(\u001b[0m\u001b[0mself\u001b[0m\u001b[0;34m,\u001b[0m \u001b[0;34m/\u001b[0m\u001b[0;34m,\u001b[0m \u001b[0;34m*\u001b[0m\u001b[0margs\u001b[0m\u001b[0;34m,\u001b[0m \u001b[0;34m**\u001b[0m\u001b[0mkwargs\u001b[0m\u001b[0;34m)\u001b[0m\u001b[0;34m\u001b[0m\u001b[0;34m\u001b[0m\u001b[0m\n",
       "\u001b[0;31mDocstring:\u001b[0m     \n",
       "bool(x) -> bool\n",
       "\n",
       "Returns True when the argument x is true, False otherwise.\n",
       "The builtins True and False are the only two instances of the class bool.\n",
       "The class bool is a subclass of the class int, and cannot be subclassed.\n",
       "\u001b[0;31mType:\u001b[0m           type\n",
       "\u001b[0;31mSubclasses:\u001b[0m     "
      ]
     },
     "metadata": {},
     "output_type": "display_data"
    }
   ],
   "source": [
    "bool?"
   ]
  },
  {
   "cell_type": "markdown",
   "id": "c641d692-1f63-4041-8869-127a454ba628",
   "metadata": {},
   "source": [
    "# Décorateurs"
   ]
  },
  {
   "cell_type": "code",
   "execution_count": 116,
   "id": "c915d806-72a9-452d-9eda-ce5329ea4a0b",
   "metadata": {},
   "outputs": [
    {
     "name": "stdout",
     "output_type": "stream",
     "text": [
      "f.__name__='f' f.__qualname__='f', f.__doc__='Ma fonction f'\n",
      "f.__name__='f2' f.__qualname__='f2', f.__doc__=None\n"
     ]
    }
   ],
   "source": [
    "import time \n",
    "import statistics\n",
    "import functools\n",
    "\n",
    "def timer(f):\n",
    "    print(f\"{f.__name__=} {f.__qualname__=}, {f.__doc__=}\")\n",
    "    @functools.wraps(f)\n",
    "    def wrapper(*args, **kwargs):\n",
    "        times = []\n",
    "        for _ in range(2):\n",
    "            tic = time.time()\n",
    "            res = f(*args, **kwargs)\n",
    "            tac = time.time()\n",
    "            times.append(tac-tic)\n",
    "        print(statistics.mean(times), statistics.stdev(times))\n",
    "        return res \n",
    "    #wrapper.__name__ = f.__name__\n",
    "    #wrapper.__doc__ = f\"trolo {f.__doc__} ttororl\"\n",
    "    return wrapper \n",
    "\n",
    "\n",
    "@timer\n",
    "def f():\n",
    "    \"\"\"Ma fonction f\"\"\"\n",
    "    time.sleep(1)\n",
    "    return 2\n",
    "\n",
    "@timer\n",
    "def f2(a):\n",
    "    time.sleep(a)\n",
    "    return a\n",
    "\n"
   ]
  },
  {
   "cell_type": "code",
   "execution_count": 117,
   "id": "93034b68-4b3a-4fe7-bf02-4a455be01354",
   "metadata": {},
   "outputs": [
    {
     "name": "stdout",
     "output_type": "stream",
     "text": [
      "1.0036906003952026 0.0011421795946452284\n",
      "Help on function f in module __main__:\n",
      "\n",
      "f()\n",
      "    Ma fonction f\n",
      "\n",
      "Ma fonction f\n",
      "<function f at 0x1114d04a0>\n"
     ]
    }
   ],
   "source": [
    "f()\n",
    "help(f)\n",
    "print(f.__doc__)\n",
    "print(f)"
   ]
  },
  {
   "cell_type": "code",
   "execution_count": 113,
   "id": "b3732f3b-c7d2-48b5-b8fb-3d7edd1f3d77",
   "metadata": {},
   "outputs": [
    {
     "name": "stdout",
     "output_type": "stream",
     "text": [
      "0.10076355934143066 0.000651084515796291\n"
     ]
    },
    {
     "data": {
      "text/plain": [
       "0.1"
      ]
     },
     "execution_count": 113,
     "metadata": {},
     "output_type": "execute_result"
    }
   ],
   "source": [
    "f2(0.1)"
   ]
  },
  {
   "cell_type": "code",
   "execution_count": 62,
   "id": "977de13b-1a65-4bf4-bd6d-f93f6d0d2ac9",
   "metadata": {},
   "outputs": [
    {
     "name": "stdout",
     "output_type": "stream",
     "text": [
      "0.20462453365325928 0.0005804463976920326\n"
     ]
    },
    {
     "data": {
      "text/plain": [
       "0.2"
      ]
     },
     "execution_count": 62,
     "metadata": {},
     "output_type": "execute_result"
    }
   ],
   "source": [
    "f2(a=0.2)"
   ]
  },
  {
   "cell_type": "code",
   "execution_count": 21,
   "id": "0b5c71ca-f2e8-489a-92a8-6d83d6acd9be",
   "metadata": {},
   "outputs": [
    {
     "name": "stdout",
     "output_type": "stream",
     "text": [
      "1\n",
      "1 2\n",
      "1 2 3 4\n"
     ]
    }
   ],
   "source": [
    "print(1)\n",
    "print(1, 2)\n",
    "print(1, 2, 3, 4)"
   ]
  },
  {
   "cell_type": "code",
   "execution_count": 56,
   "id": "fbf1b782-2fa6-432e-ac6c-7523d837e94a",
   "metadata": {},
   "outputs": [],
   "source": [
    "def g(a, b=2, **kwargs): \n",
    "    print(\"a\", a)\n",
    "    print(\"b\", b)\n",
    "    print(\"kwargs\", kwargs)\n",
    "    print(\"-------\")"
   ]
  },
  {
   "cell_type": "code",
   "execution_count": 58,
   "id": "e4517ad0-45da-4211-91a5-f9235a97b032",
   "metadata": {},
   "outputs": [
    {
     "name": "stdout",
     "output_type": "stream",
     "text": [
      "a 1\n",
      "b 2\n",
      "kwargs {}\n",
      "-------\n"
     ]
    }
   ],
   "source": [
    " g(1)"
   ]
  },
  {
   "cell_type": "code",
   "execution_count": 26,
   "id": "32263759-8ff9-4c35-bc16-6c954c4c646a",
   "metadata": {},
   "outputs": [
    {
     "name": "stdout",
     "output_type": "stream",
     "text": [
      "1\n",
      "2\n",
      "[3, 4, 5]\n"
     ]
    }
   ],
   "source": [
    "a, b, *args = 1, 2, 3, 4, 5\n",
    "print(a)\n",
    "print(b)\n",
    "print(args)"
   ]
  },
  {
   "cell_type": "markdown",
   "id": "f6d584de-1008-42fd-99bd-fb69cc46f6f6",
   "metadata": {},
   "source": [
    "```\n",
    "nom     | prenom \n",
    "Falce   | Matthieu\n",
    "Poirier | Cyrille\n",
    "```"
   ]
  },
  {
   "cell_type": "code",
   "execution_count": 31,
   "id": "f671958a-fd7a-4124-bec8-9079632505b2",
   "metadata": {},
   "outputs": [
    {
     "data": {
      "text/plain": [
       "'Falce'"
      ]
     },
     "execution_count": 31,
     "metadata": {},
     "output_type": "execute_result"
    }
   ],
   "source": [
    "data = [\n",
    "    {\"nom\": \"Falce\", \"prenom\": \"Matthieu\"}, \n",
    "    {\"nom\": \"Poirier\", \"prenom\": \"Cyrille\"}, \n",
    "]\n",
    "\n",
    "data[0][\"nom\"]"
   ]
  },
  {
   "cell_type": "code",
   "execution_count": 36,
   "id": "f612d495-b49a-49f9-a4d5-92bc71dde0a6",
   "metadata": {},
   "outputs": [
    {
     "ename": "AttributeError",
     "evalue": "'tuple' object has no attribute 'append'",
     "output_type": "error",
     "traceback": [
      "\u001b[0;31m---------------------------------------------------------------------------\u001b[0m",
      "\u001b[0;31mAttributeError\u001b[0m                            Traceback (most recent call last)",
      "Cell \u001b[0;32mIn[36], line 6\u001b[0m\n\u001b[1;32m      1\u001b[0m data \u001b[38;5;241m=\u001b[39m [\n\u001b[1;32m      2\u001b[0m     (\u001b[38;5;124m\"\u001b[39m\u001b[38;5;124mFalce\u001b[39m\u001b[38;5;124m\"\u001b[39m, \u001b[38;5;124m\"\u001b[39m\u001b[38;5;124mMatthieu\u001b[39m\u001b[38;5;124m\"\u001b[39m),\n\u001b[1;32m      3\u001b[0m     (\u001b[38;5;124m\"\u001b[39m\u001b[38;5;124mPoirier\u001b[39m\u001b[38;5;124m\"\u001b[39m, \u001b[38;5;124m\"\u001b[39m\u001b[38;5;124mCyrille\u001b[39m\u001b[38;5;124m\"\u001b[39m),\n\u001b[1;32m      4\u001b[0m ]\n\u001b[0;32m----> 6\u001b[0m \u001b[43mdata\u001b[49m\u001b[43m[\u001b[49m\u001b[38;5;241;43m0\u001b[39;49m\u001b[43m]\u001b[49m\u001b[38;5;241;43m.\u001b[39;49m\u001b[43mappend\u001b[49m(\u001b[38;5;124m\"\u001b[39m\u001b[38;5;124m26/11\u001b[39m\u001b[38;5;124m\"\u001b[39m)\n",
      "\u001b[0;31mAttributeError\u001b[0m: 'tuple' object has no attribute 'append'"
     ]
    }
   ],
   "source": [
    "data = [\n",
    "    (\"Falce\", \"Matthieu\"),\n",
    "    (\"Poirier\", \"Cyrille\"),\n",
    "]\n",
    "\n",
    "data[0].append(\"26/11\")"
   ]
  },
  {
   "cell_type": "code",
   "execution_count": 35,
   "id": "01564572-a347-4a8d-9e1b-9a4023d9ba4b",
   "metadata": {},
   "outputs": [
    {
     "data": {
      "text/plain": [
       "[['Falce', 'Matthieu', '26/11'], ['Poirier', 'Cyrille']]"
      ]
     },
     "execution_count": 35,
     "metadata": {},
     "output_type": "execute_result"
    }
   ],
   "source": [
    "data"
   ]
  },
  {
   "cell_type": "code",
   "execution_count": 50,
   "id": "1ba1baf5-0eaa-462e-b052-8c589d12515e",
   "metadata": {},
   "outputs": [
    {
     "name": "stdout",
     "output_type": "stream",
     "text": [
      "1---2\n"
     ]
    }
   ],
   "source": [
    "print(1, 2, sep=\"---\")"
   ]
  },
  {
   "cell_type": "code",
   "execution_count": 73,
   "id": "ad13c0cf-392c-4029-a037-51a2495f9f44",
   "metadata": {},
   "outputs": [
    {
     "name": "stdout",
     "output_type": "stream",
     "text": [
      "1 2 () {}\n"
     ]
    }
   ],
   "source": [
    "def f(a=None, *args, b=2, **kwargs):\n",
    "    print(a, b, args, kwargs)\n",
    "\n",
    "f(1, b=2)"
   ]
  },
  {
   "cell_type": "code",
   "execution_count": 77,
   "id": "45848b2b-4a1a-4487-ad34-8c0ca70660e6",
   "metadata": {},
   "outputs": [
    {
     "name": "stdout",
     "output_type": "stream",
     "text": [
      "1 100 () {}\n"
     ]
    }
   ],
   "source": [
    "f(1, b=100)"
   ]
  },
  {
   "cell_type": "code",
   "execution_count": 78,
   "id": "be7d91dc-2dfc-46f7-8413-0e10b448ee95",
   "metadata": {},
   "outputs": [
    {
     "data": {
      "text/plain": [
       "\u001b[0;31mInit signature:\u001b[0m \u001b[0mmap\u001b[0m\u001b[0;34m(\u001b[0m\u001b[0mself\u001b[0m\u001b[0;34m,\u001b[0m \u001b[0;34m/\u001b[0m\u001b[0;34m,\u001b[0m \u001b[0;34m*\u001b[0m\u001b[0margs\u001b[0m\u001b[0;34m,\u001b[0m \u001b[0;34m**\u001b[0m\u001b[0mkwargs\u001b[0m\u001b[0;34m)\u001b[0m\u001b[0;34m\u001b[0m\u001b[0;34m\u001b[0m\u001b[0m\n",
       "\u001b[0;31mDocstring:\u001b[0m     \n",
       "map(func, *iterables) --> map object\n",
       "\n",
       "Make an iterator that computes the function using arguments from\n",
       "each of the iterables.  Stops when the shortest iterable is exhausted.\n",
       "\u001b[0;31mType:\u001b[0m           type\n",
       "\u001b[0;31mSubclasses:\u001b[0m     "
      ]
     },
     "metadata": {},
     "output_type": "display_data"
    }
   ],
   "source": [
    "map?"
   ]
  },
  {
   "cell_type": "code",
   "execution_count": 84,
   "id": "14c16759-e207-498d-9cb9-2275a72b1068",
   "metadata": {},
   "outputs": [
    {
     "data": {
      "text/plain": [
       "[10, 13, 16, 19]"
      ]
     },
     "execution_count": 84,
     "metadata": {},
     "output_type": "execute_result"
    }
   ],
   "source": [
    "def addition(a, b, c):\n",
    "    return a + b + c\n",
    "\n",
    "list(map(addition, range(5), range(10, 20), range(4)))"
   ]
  },
  {
   "cell_type": "code",
   "execution_count": 97,
   "id": "61a82636-d138-44b3-b604-99d06a1fd974",
   "metadata": {},
   "outputs": [],
   "source": [
    "def my_map(func, *iterables):\n",
    "    res = []\n",
    "    print(iterables)\n",
    "    for arguments in zip(*iterables):\n",
    "        print(arguments)\n",
    "        tmp = func(*arguments)\n",
    "        res.append(tmp)\n",
    "    return res "
   ]
  },
  {
   "cell_type": "code",
   "execution_count": 98,
   "id": "38c7c8a4-4af0-40c0-963d-133d84245667",
   "metadata": {},
   "outputs": [
    {
     "name": "stdout",
     "output_type": "stream",
     "text": [
      "(range(0, 5), range(10, 20), range(0, 4))\n",
      "(0, 10, 0)\n",
      "(1, 11, 1)\n",
      "(2, 12, 2)\n",
      "(3, 13, 3)\n"
     ]
    },
    {
     "data": {
      "text/plain": [
       "[10, 13, 16, 19]"
      ]
     },
     "execution_count": 98,
     "metadata": {},
     "output_type": "execute_result"
    }
   ],
   "source": [
    "my_map(addition, range(5), range(10, 20), range(4))"
   ]
  },
  {
   "cell_type": "code",
   "execution_count": 94,
   "id": "1c81a3df-777b-426d-9e0f-81a4e910f332",
   "metadata": {},
   "outputs": [
    {
     "data": {
      "text/plain": [
       "[(0, 0, 0, 0), (1, 1, 1, 1)]"
      ]
     },
     "execution_count": 94,
     "metadata": {},
     "output_type": "execute_result"
    }
   ],
   "source": [
    "list(zip([0,1,2, 3, 4, 5], [0,1,2, 3, 4, 5],[0,1,2, 3, 4, 5], [0,1]))"
   ]
  },
  {
   "cell_type": "code",
   "execution_count": 124,
   "id": "e515b1b7-3135-4359-ac10-96b4980e7b7c",
   "metadata": {},
   "outputs": [
    {
     "name": "stdout",
     "output_type": "stream",
     "text": [
      "{1: '1', 2: '2'} {2: 'deux', 3: 'trois'}\n",
      "{1: '1', 2: 'deux', 3: 'trois'}\n",
      "{1: '1', 2: 'deux', 3: 'trois'}\n"
     ]
    }
   ],
   "source": [
    "d1 = {1: \"1\", 2: \"2\"}\n",
    "d2 = {2: \"deux\", 3: \"trois\"}\n",
    "d3 = {}\n",
    "\n",
    "print(d1, d2)\n",
    "print({**d1, **d2})\n",
    "d3.update(d1)\n",
    "d3.update(d2)\n",
    "print(d3)"
   ]
  },
  {
   "cell_type": "code",
   "execution_count": 130,
   "id": "18dd9ef1-8d75-4e46-9769-bf9476e058c4",
   "metadata": {},
   "outputs": [
    {
     "name": "stdout",
     "output_type": "stream",
     "text": [
      "{1, 2, 3} {2, 3, 4, 5}\n",
      "{1, 2, 3, 4, 5}\n"
     ]
    }
   ],
   "source": [
    "s1 = set([1, 2, 3, 3])\n",
    "s2 = set([2, 3, 4, 5])\n",
    "print(s1, s2)\n",
    "s3 = s1 | s2\n",
    "print(s3)"
   ]
  },
  {
   "cell_type": "code",
   "execution_count": 127,
   "id": "f3f719bc-bb29-4fd3-84c3-c409fe8abc98",
   "metadata": {},
   "outputs": [
    {
     "name": "stdout",
     "output_type": "stream",
     "text": [
      "[1, 2, 3, 4, 5]\n"
     ]
    }
   ],
   "source": [
    "l = [1, 1, 5, 2, 3, 4, 2]\n",
    "l = list(set(l))\n",
    "print(l)"
   ]
  },
  {
   "cell_type": "code",
   "execution_count": 131,
   "id": "ea66aa5e-c8e7-4050-911d-46206a3c31e8",
   "metadata": {},
   "outputs": [
    {
     "data": {
      "text/plain": [
       "2083159520034149441"
      ]
     },
     "execution_count": 131,
     "metadata": {},
     "output_type": "execute_result"
    }
   ],
   "source": [
    "hash(\"toto\") => \"toto\".__hash__()"
   ]
  },
  {
   "cell_type": "code",
   "execution_count": 141,
   "id": "efe4160b-b2d3-4d94-9385-0ac46d2fa193",
   "metadata": {},
   "outputs": [],
   "source": [
    "def fib(n):\n",
    "    if n < 2:\n",
    "        return n\n",
    "    return fib(n-1) + fib(n-2)\n"
   ]
  },
  {
   "cell_type": "code",
   "execution_count": 142,
   "id": "93349a79-ac24-4bff-90f7-9f97681c00cf",
   "metadata": {},
   "outputs": [
    {
     "name": "stdout",
     "output_type": "stream",
     "text": [
      "56.5 µs ± 101 ns per loop (mean ± std. dev. of 7 runs, 10,000 loops each)\n"
     ]
    }
   ],
   "source": [
    "%timeit fib(15)"
   ]
  },
  {
   "cell_type": "code",
   "execution_count": 143,
   "id": "c3d43eb0-fc44-4cde-adca-f5d7e25bc517",
   "metadata": {},
   "outputs": [
    {
     "name": "stdout",
     "output_type": "stream",
     "text": [
      "92.1 µs ± 1.13 µs per loop (mean ± std. dev. of 7 runs, 10,000 loops each)\n"
     ]
    }
   ],
   "source": [
    "%timeit fib(16)"
   ]
  },
  {
   "cell_type": "code",
   "execution_count": 144,
   "id": "fe02727e-7619-457e-9350-56e71cac7255",
   "metadata": {},
   "outputs": [
    {
     "name": "stdout",
     "output_type": "stream",
     "text": [
      "6.97 ms ± 25.7 µs per loop (mean ± std. dev. of 7 runs, 100 loops each)\n"
     ]
    }
   ],
   "source": [
    "%timeit fib(25)"
   ]
  },
  {
   "cell_type": "code",
   "execution_count": 145,
   "id": "913ca031-58e2-4688-91bb-cc38bc88396d",
   "metadata": {},
   "outputs": [
    {
     "name": "stdout",
     "output_type": "stream",
     "text": [
      "11.3 ms ± 24.2 µs per loop (mean ± std. dev. of 7 runs, 100 loops each)\n"
     ]
    }
   ],
   "source": [
    "%timeit fib(26)"
   ]
  },
  {
   "cell_type": "code",
   "execution_count": 148,
   "id": "d6c96584-b7f4-4de0-9d62-b4198a8ac978",
   "metadata": {},
   "outputs": [
    {
     "name": "stdout",
     "output_type": "stream",
     "text": [
      "9.5 s ± 18.9 ms per loop (mean ± std. dev. of 7 runs, 1 loop each)\n"
     ]
    }
   ],
   "source": [
    "%timeit fib(40)"
   ]
  },
  {
   "cell_type": "code",
   "execution_count": 154,
   "id": "4d88cc12-feb9-4216-a82c-d0be7de1178d",
   "metadata": {},
   "outputs": [],
   "source": [
    "from functools import lru_cache\n",
    "\n",
    "@lru_cache\n",
    "def fib_cached(n):\n",
    "    if n < 2:\n",
    "        return n\n",
    "    return fib_cached(n-1) + fib_cached(n-2)\n"
   ]
  },
  {
   "cell_type": "code",
   "execution_count": 155,
   "id": "a1b22542-7b2c-45f9-b302-267f3a7570f8",
   "metadata": {},
   "outputs": [
    {
     "data": {
      "text/plain": [
       "610"
      ]
     },
     "execution_count": 155,
     "metadata": {},
     "output_type": "execute_result"
    }
   ],
   "source": [
    "fib_cached(15)"
   ]
  },
  {
   "cell_type": "code",
   "execution_count": null,
   "id": "738bce6e-fba9-46f0-9580-72241fcf46e1",
   "metadata": {},
   "outputs": [],
   "source": [
    "%timeit fib_cached(500)"
   ]
  },
  {
   "cell_type": "code",
   "execution_count": null,
   "id": "c54d366c-d662-46b0-b0ee-9e7f42e9ca15",
   "metadata": {},
   "outputs": [],
   "source": []
  },
  {
   "cell_type": "code",
   "execution_count": null,
   "id": "533bc98b-2f5f-4eb7-9df0-13627dd2458c",
   "metadata": {},
   "outputs": [],
   "source": []
  },
  {
   "cell_type": "code",
   "execution_count": null,
   "id": "29ae83a5-2c57-433d-a62b-162a9dcdf4cd",
   "metadata": {},
   "outputs": [],
   "source": []
  }
 ],
 "metadata": {
  "kernelspec": {
   "display_name": "Python 3 (ipykernel)",
   "language": "python",
   "name": "python3"
  },
  "language_info": {
   "codemirror_mode": {
    "name": "ipython",
    "version": 3
   },
   "file_extension": ".py",
   "mimetype": "text/x-python",
   "name": "python",
   "nbconvert_exporter": "python",
   "pygments_lexer": "ipython3",
   "version": "3.12.0"
  }
 },
 "nbformat": 4,
 "nbformat_minor": 5
}
